{
 "cells": [
  {
   "cell_type": "markdown",
   "id": "d3bfc191-8885-42ee-b0a0-bbab867c6f9f",
   "metadata": {
    "tags": []
   },
   "source": [
    "# Lab | Flow Control"
   ]
  },
  {
   "cell_type": "markdown",
   "id": "0ebbec37",
   "metadata": {},
   "source": [
    "# Exercise: Managing Customer Orders Optimized\n",
    "\n",
    "In the last lab, you were starting an online store that sells various products. To ensure smooth operations, you developed a program that manages customer orders and inventory.\n",
    "\n",
    "You did so without using flow control. Let's go a step further and improve this code.\n",
    "\n",
    "Follow the steps below to complete the exercise:\n",
    "\n",
    "1. Look at your code from the lab data structures, and improve repeated code with loops.\n",
    "\n",
    "2. Instead of asking the user to input the name of three products that a customer wants to order, do the following:\n",
    "    \n",
    "    a. Prompt the user to enter the name of a product that a customer wants to order.\n",
    "    \n",
    "    b. Add the product name to the \"customer_orders\" set.\n",
    "    \n",
    "    c. Ask the user if they want to add another product (yes/no).\n",
    "    \n",
    "    d. Continue the loop until the user does not want to add another product.\n",
    "\n",
    "3. Instead of updating the inventory by subtracting 1 from the quantity of each product, only do it for  the products that were ordered (those in \"customer_orders\")."
   ]
  },
  {
   "cell_type": "code",
   "execution_count": 7,
   "id": "9ee119db",
   "metadata": {},
   "outputs": [],
   "source": [
    "#1\n",
    "\n",
    "products = [\"tshirt\", \"mug\", \"hat\", \"book\", \"keychain\"]\n",
    "inventory = {}"
   ]
  },
  {
   "cell_type": "code",
   "execution_count": 10,
   "id": "1e393b59",
   "metadata": {
    "scrolled": true
   },
   "outputs": [
    {
     "name": "stdout",
     "output_type": "stream",
     "text": [
      "how many tshirts would you like?2\n",
      "how many mugs would you like?2\n",
      "how many hats would you like?2\n",
      "how many books would you like?2\n",
      "how many keychains would you like?2\n"
     ]
    }
   ],
   "source": [
    "products = ['tshirt', 'mug', 'hat', 'book', 'keychain']\n",
    "inventory = {}\n",
    "\n",
    "\n",
    "for product in range(len(products)):\n",
    "    tshirts = int(input(\"how many tshirts would you like?\"))\n",
    "    inventory['tshirts'] = tshirts\n",
    "    mugs = int(input(\"how many mugs would you like?\"))\n",
    "    inventory['mugs'] = mugs\n",
    "    hats = int(input(\"how many hats would you like?\"))\n",
    "    inventory['hats'] = hats\n",
    "    books = int(input(\"how many books would you like?\"))\n",
    "    inventory['books'] = books\n",
    "    keychains = int(input(\"how many keychains would you like?\"))\n",
    "    inventory['keychains'] = keychains\n",
    "    break"
   ]
  },
  {
   "cell_type": "code",
   "execution_count": 11,
   "id": "ba601bf4",
   "metadata": {},
   "outputs": [
    {
     "name": "stdout",
     "output_type": "stream",
     "text": [
      "{'tshirts': 2, 'mugs': 2, 'hats': 2, 'books': 2, 'keychains': 2}\n"
     ]
    }
   ],
   "source": [
    "print(inventory)"
   ]
  },
  {
   "cell_type": "code",
   "execution_count": 6,
   "id": "8cd54bc1",
   "metadata": {},
   "outputs": [
    {
     "name": "stdout",
     "output_type": "stream",
     "text": [
      "what would you like to order?hat\n"
     ]
    }
   ],
   "source": [
    "#2\n",
    "#a)\n",
    "\n",
    "costumer_orders = set()\n",
    "\n",
    "costumer = input('what would you like to order?')"
   ]
  },
  {
   "cell_type": "code",
   "execution_count": 9,
   "id": "d0c6cb90",
   "metadata": {},
   "outputs": [],
   "source": [
    "costumer_orders.add(costumer)"
   ]
  },
  {
   "cell_type": "code",
   "execution_count": 10,
   "id": "b01346b5",
   "metadata": {
    "scrolled": true
   },
   "outputs": [
    {
     "name": "stdout",
     "output_type": "stream",
     "text": [
      "{'hat'}\n"
     ]
    }
   ],
   "source": [
    "print(costumer_orders)"
   ]
  },
  {
   "cell_type": "code",
   "execution_count": null,
   "id": "d12b8ec0",
   "metadata": {},
   "outputs": [],
   "source": [
    "costumer_orders = set()\n",
    "client1 = input(\"would you like to order something else?\")\n",
    "\n",
    "while client1 == \"yes\":\n",
    "    object = input(\"waht else would\")"
   ]
  },
  {
   "cell_type": "code",
   "execution_count": 11,
   "id": "78bb8fab",
   "metadata": {},
   "outputs": [
    {
     "name": "stdout",
     "output_type": "stream",
     "text": [
      "would tou like to order something else or not?yes\n",
      "what would that be?book\n",
      "would tou like to order something else or not?yes\n",
      "what would that be?mug\n",
      "would tou like to order something else or not?no\n",
      "we'll help you checkout now. thanks!\n",
      "{'hat', 'book', 'mug'}\n"
     ]
    }
   ],
   "source": [
    "costumer_orders = set()\n",
    "\n",
    "costumer2 = input('would tou like to order something else or not?')\n",
    "while costumer2 == \"yes\":\n",
    "    costumer3 = input('what would that be: a mug, a book, a keychain, a hat or a tshirt?')\n",
    "    costumer_orders.add(costumer3)\n",
    "    costumer2 = input('would tou like to order something else or not?')\n",
    "else:\n",
    "    print(\"we'll help you checkout now. thanks!\")\n",
    "    print(costumer_orders)\n",
    "    "
   ]
  },
  {
   "cell_type": "code",
   "execution_count": 12,
   "id": "c6ee77bd",
   "metadata": {},
   "outputs": [
    {
     "name": "stdout",
     "output_type": "stream",
     "text": [
      "{'hat', 'book', 'mug'}\n"
     ]
    }
   ],
   "source": [
    "print(costumer_orders)"
   ]
  },
  {
   "cell_type": "code",
   "execution_count": 20,
   "id": "d5b77931",
   "metadata": {},
   "outputs": [],
   "source": [
    "#3\n",
    "costumer_orders = {'hats', 'books', 'mugs'}\n",
    "inventory = {'tshirts': 2, 'mugs': 2, 'hats': 2, 'books': 2, 'keychains': 2}\n",
    "\n",
    "substraction_value = 1\n",
    "\n",
    "#if key in costumer_orders:\n",
    "\n",
    "\n",
    "for key in inventory:\n",
    "    if key in costumer_orders:  \n",
    "        inventory[key] -= substraction_value"
   ]
  },
  {
   "cell_type": "code",
   "execution_count": 21,
   "id": "7088fc55",
   "metadata": {},
   "outputs": [
    {
     "name": "stdout",
     "output_type": "stream",
     "text": [
      "{'tshirts': 2, 'mugs': 1, 'hats': 1, 'books': 1, 'keychains': 2}\n"
     ]
    }
   ],
   "source": [
    "print(inventory)"
   ]
  },
  {
   "cell_type": "code",
   "execution_count": 20,
   "id": "7d3c7d0f",
   "metadata": {},
   "outputs": [
    {
     "name": "stdout",
     "output_type": "stream",
     "text": [
      "{'mug', 'hat', 'book'}\n"
     ]
    }
   ],
   "source": [
    "print(costumer_orders)"
   ]
  },
  {
   "cell_type": "code",
   "execution_count": 22,
   "id": "0657fdd8",
   "metadata": {},
   "outputs": [
    {
     "name": "stdout",
     "output_type": "stream",
     "text": [
      "tshirts 2\n",
      "mugs 1\n",
      "hats 1\n",
      "books 1\n",
      "keychains 2\n"
     ]
    }
   ],
   "source": [
    "for key, value in inventory.items():\n",
    "    print(key,value)"
   ]
  },
  {
   "cell_type": "markdown",
   "id": "6fd0812a",
   "metadata": {},
   "source": []
  },
  {
   "cell_type": "code",
   "execution_count": null,
   "id": "61f93c30",
   "metadata": {},
   "outputs": [],
   "source": []
  },
  {
   "cell_type": "code",
   "execution_count": null,
   "id": "894b9761",
   "metadata": {},
   "outputs": [],
   "source": []
  }
 ],
 "metadata": {
  "kernelspec": {
   "display_name": "Python 3 (ipykernel)",
   "language": "python",
   "name": "python3"
  },
  "language_info": {
   "codemirror_mode": {
    "name": "ipython",
    "version": 3
   },
   "file_extension": ".py",
   "mimetype": "text/x-python",
   "name": "python",
   "nbconvert_exporter": "python",
   "pygments_lexer": "ipython3",
   "version": "3.10.9"
  }
 },
 "nbformat": 4,
 "nbformat_minor": 5
}
