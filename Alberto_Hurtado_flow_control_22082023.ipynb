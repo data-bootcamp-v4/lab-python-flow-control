{
  "cells": [
    {
      "cell_type": "markdown",
      "metadata": {
        "id": "rhvGqWO3fsTa"
      },
      "source": [
        "Exercise: Managing Customer Orders\n",
        "As part of a business venture, you are starting an online store that sells various products. To ensure smooth operations, you need to develop a program that manages customer orders and inventory.\n",
        "\n",
        "Follow the steps below to complete the exercise:\n",
        "\n",
        "1. Define a list called products that contains the following items: \"t-shirt\", \"mug\", \"hat\", \"book\", \"keychain\".\n",
        "\n",
        "2. Create an empty dictionary called inventory.\n",
        "\n",
        "3. Ask the user to input the quantity of each product available in the inventory. Use the product names from the products list as keys in the inventory dictionary and assign the respective quantities as values.\n",
        "\n",
        "4. Create an empty set called customer_orders.\n",
        "\n",
        "5. Ask the user to input the name of three products that a customer wants to order (from those in the products list, meaning three products out of \"t-shirt\", \"mug\", \"hat\", \"book\" or \"keychain\". Add each product name to the customer_orders set.\n",
        "\n",
        "6. Print the products in the customer_orders set.\n",
        "\n",
        "7. Calculate the following order statistics:\n",
        "\n",
        "- Total Products Ordered: The total number of products in the customer_orders set.\n",
        "- Percentage of Products Ordered: The percentage of products ordered compared to the total available products.\n",
        "Store these statistics in a tuple called order_status.\n",
        "\n",
        "8. Print the order statistics using the following format:\n",
        "\n",
        "Order Statistics:\n",
        "Total Products Ordered: <total_products_ordered>\n",
        "Percentage of Products Ordered: <percentage_ordered>%\n",
        "\n",
        "9. Update the inventory by subtracting 1 from the quantity of each product. Modify the inventory dictionary accordingly.\n",
        "\n",
        "10. Print the updated inventory, displaying the quantity of each product on separate lines.\n",
        "\n",
        "Solve the exercise by implementing the steps using the Python concepts of lists, dictionaries, sets, and basic input/output operations."
      ]
    },
    {
      "cell_type": "code",
      "execution_count": null,
      "metadata": {},
      "outputs": [],
      "source": [
        "# 1. Define a list called products that contains the following items: \"t-shirt\", \"mug\", \"hat\", \"book\", \"keychain\".\n",
        "products = [\"t-shirt\", \"mug\", \"hat\", \"book\", \"keychain\"]"
      ]
    },
    {
      "cell_type": "code",
      "execution_count": null,
      "metadata": {},
      "outputs": [],
      "source": [
        "# 2 Create an empty dictionary called inventory\n",
        "inventory = {}"
      ]
    },
    {
      "cell_type": "code",
      "execution_count": null,
      "metadata": {},
      "outputs": [],
      "source": [
        "# 3. Ask the user to input the quantity of each product available in the inventory. \n",
        "# Use the product names from the products list as keys in the inventory dictionary and assign the respective quantities as values.\n",
        "for product in products:\n",
        "    quantity = int(input(f\"Enter the quantity of {product}: \"))\n",
        "    inventory[product] = quantity"
      ]
    },
    {
      "cell_type": "code",
      "execution_count": null,
      "metadata": {},
      "outputs": [
        {
          "name": "stdout",
          "output_type": "stream",
          "text": [
            "{'t-shirt': 1, 'mug': 2, 'hat': 3, 'book': 4, 'keychain': 5}\n"
          ]
        }
      ],
      "source": [
        "print(inventory)"
      ]
    },
    {
      "cell_type": "code",
      "execution_count": null,
      "metadata": {},
      "outputs": [],
      "source": [
        "# 4 Create an empty set called customer_orders.\n",
        "customer_orders = set()"
      ]
    },
    {
      "cell_type": "code",
      "execution_count": null,
      "metadata": {},
      "outputs": [],
      "source": [
        " # 5. Ask the user to input the name of three products that a customer wants to order (from those in the products list, \n",
        " # meaning three products out of \"t-shirt\", \"mug\", \"hat\", \"book\" or \"keychain\". Add each product name to the customer_orders set.\n",
        " for i in range (3):\n",
        "    new_product = input(\"Please enter the name of the product you would like to order:\")\n",
        "    if new_product in products:\n",
        "      customer_orders.add(new_product)\n",
        "    else:\n",
        "      print(\"The product is not in the list, please try again\")"
      ]
    },
    {
      "cell_type": "code",
      "execution_count": null,
      "metadata": {},
      "outputs": [
        {
          "name": "stdout",
          "output_type": "stream",
          "text": [
            "Customer orders: {'book', 'hat', 'mug'}\n"
          ]
        }
      ],
      "source": [
        "# 6.  Print the products in the customer_orders set.\n",
        "print(\"Customer orders:\", customer_orders)"
      ]
    },
    {
      "cell_type": "code",
      "execution_count": null,
      "metadata": {},
      "outputs": [
        {
          "name": "stdout",
          "output_type": "stream",
          "text": [
            "total products ordered: 3\n",
            "60.0\n",
            "Order Statistics:\n",
            "Total Products Ordered: 3\n",
            "Percentage of Products Ordered: 60.0 %\n"
          ]
        }
      ],
      "source": [
        "# 7. Calculate the following order statistics:\n",
        "# - Total Products Ordered: The total number of products in the customer_orders set.\n",
        "# - Percentage of Products Ordered: The percentage of products ordered compared to the total available products.\n",
        "# Store these statistics in a tuple called order_status.\n",
        "\n",
        "# 8. Print the order statistics using the following format:\n",
        "\n",
        "#Order Statistics:\n",
        "#Total Products Ordered: <total_products_ordered>\n",
        "#Percentage of Products Ordered: <percentage_ordered>%\n",
        "\n",
        "total_products_ordered = len(customer_orders)\n",
        "print(\"total products ordered:\", total_products_ordered)\n",
        "\n",
        "percentage_ordered = (total_products_ordered / len(products)) * 100\n",
        "print(percentage_ordered)\n",
        "\n",
        "order_status = (total_products_ordered, percentage_ordered)\n",
        "print(\"Order Statistics:\" )\n",
        "print(\"Total Products Ordered:\", order_status[0])\n",
        "print(\"Percentage of Products Ordered:\", order_status[1],\"%\")\n",
        "\n"
      ]
    },
    {
      "cell_type": "code",
      "execution_count": null,
      "metadata": {},
      "outputs": [
        {
          "name": "stdout",
          "output_type": "stream",
          "text": [
            "updated inventory is: {'t-shirt': 0, 'mug': 1, 'hat': 2, 'book': 3, 'keychain': 4}\n"
          ]
        }
      ],
      "source": [
        "# 9. Update the inventory by subtracting 1 from the quantity of each product. Modify the inventory dictionary accordingly.\n",
        "for product in inventory:\n",
        "    inventory[product] -= 1\n",
        "print(\"updated inventory is:\", inventory)\n"
      ]
    },
    {
      "cell_type": "code",
      "execution_count": null,
      "metadata": {},
      "outputs": [],
      "source": [
        "# 10. Print the updated inventory, displaying the quantity of each product on separate lines.\n",
        "print(\"Updated Inventory: \")\n",
        "for product, quantity in inventory.items():\n",
        "    print(f\"{product}: {quantity}\")"
      ]
    },
    {
      "cell_type": "code",
      "execution_count": null,
      "metadata": {},
      "outputs": [
        {
          "name": "stdout",
          "output_type": "stream",
          "text": [
            "Updated Inventory: \n",
            "t-shirt 0\n",
            "mug 1\n",
            "hat 2\n",
            "book 3\n",
            "keychain 4\n"
          ]
        }
      ],
      "source": [
        "# 10. Print the updated inventory, displaying the quantity of each product on separate lines.\n",
        "print(\"Updated Inventory: \")\n",
        "for product in inventory:\n",
        "    print(product, inventory[product])"
      ]
    },
    {
      "cell_type": "markdown",
      "metadata": {},
      "source": [
        "## Exercise: Managing Customer Orders Optimized\n",
        "\n",
        "In the last lab, you were starting an online store that sells various products. To ensure smooth operations, you developed a program that manages customer orders and inventory.\n",
        "\n",
        "You did so without using flow control. Let's go a step further and improve this code.\n",
        "\n",
        "Follow the steps below to complete the exercise:\n",
        "\n",
        "1. Look at your code from the lab data structures, and improve repeated code with loops.\n",
        "\n",
        "2. Instead of asking the user to input the name of three products that a customer wants to order, do the following:\n",
        "    \n",
        "    a. Prompt the user to enter the name of a product that a customer wants to order.\n",
        "    \n",
        "    b. Add the product name to the \"customer_orders\" set.\n",
        "    \n",
        "    c. Ask the user if they want to add another product (yes/no).\n",
        "    \n",
        "    d. Continue the loop until the user does not want to add another product.\n",
        "\n",
        "3. Instead of updating the inventory by subtracting 1 from the quantity of each product, only do it for  the products that were ordered (those in \"customer_orders\")."
      ]
    },
    {
      "cell_type": "code",
      "execution_count": null,
      "metadata": {},
      "outputs": [],
      "source": [
        "# 1. The code is already using loops above. "
      ]
    },
    {
      "cell_type": "code",
      "execution_count": 6,
      "metadata": {},
      "outputs": [
        {
          "name": "stdout",
          "output_type": "stream",
          "text": [
            "your order is ready to be processed: \n",
            "Your final order is as follows:  {'mug', 'hat'}\n"
          ]
        }
      ],
      "source": [
        "# 2. Instead of asking the user to input the name of three products that a customer wants to order, do the following:    \n",
        "    #a. Prompt the user to enter the name of a product that a customer wants to order.\n",
        "        # a.1 add a validation (note)\n",
        "    #b. Add the product name to the \"customer_orders\" set.\n",
        "    #c. Ask the user if they want to add another product (yes/no).\n",
        "    #d. Continue the loop until the user does not want to add another product\n",
        "\n",
        "# Functions always on top. Encapsular operaciones de logica\n",
        "\n",
        "products = [\"t-shirt\", \"mug\", \"hat\", \"book\", \"keychain\"]\n",
        "\n",
        "customer_orders = set()\n",
        "\n",
        "def new_product_name():\n",
        "    product_required = input(\"Please enter the product you would like to order:\" )\n",
        "    return product_required \n",
        "\n",
        "def validate_product(product): # esta funcion valida si el producto esta o no en el inventario. Guard clauses (pequena logica de negocio -voy a ver si esta en la lista o no- y en funcion de esto te digo si puedes seguir o no\n",
        "    if product in products:\n",
        "        return True\n",
        "    else:\n",
        "       print(f\"{product} is not in the list of available products\")\n",
        "       return False\n",
        "\n",
        "def add_another_product(): # pregunta al usuario si quiere seguir o no\n",
        "    another_product = input(\"Would you like to add another product? (yes/no):\").lower() # para pasarlo todo a lower letters. \n",
        "    if another_product == \"yes\":\n",
        "        return True\n",
        "    else:\n",
        "        print(\"your order is ready to be processed: \")   \n",
        "        return False\n",
        "\n",
        "# este es el programa. Se lee asi:  mientras anadas producto (que es true), voy a pedir un nuevo nombre de producto lo alamceno en x. Lo valido. Si existe, lo anado. Si no existe, no hago nada. El false de abajo me vale para, una vez el usuario diga no, vuelvo arriba y como la condicion tiene que ser true, ahi se acaba el bucle\n",
        "add_products = True\n",
        "while add_products:\n",
        "    x = new_product_name() # se ejecuta la funcion new product name y el rtdo lo guardo en x\n",
        "    if validate_product(x):\n",
        "        customer_orders.add(x)\n",
        "    if not add_another_product():\n",
        "        add_products = False\n",
        "        \n",
        "print(customer_orders)"
      ]
    },
    {
      "cell_type": "code",
      "execution_count": 9,
      "metadata": {},
      "outputs": [
        {
          "name": "stdout",
          "output_type": "stream",
          "text": [
            "updated inventory is: {'t-shirt': 5, 'mug': 4, 'hat': 4, 'book': 5, 'keychain': 5}\n"
          ]
        }
      ],
      "source": [
        "inventory = {}\n",
        "\n",
        "for product in products:\n",
        "    quantity = int(input(f\"Enter the quantity of {product}: \"))\n",
        "    inventory[product] = quantity\n",
        "\n",
        "# 3. Instead of updating the inventory by subtracting 1 from the quantity of each product, only do it for  the products that were ordered (those in \"customer_orders\").\n",
        "\n",
        "for product in customer_orders:\n",
        "    inventory[product] -= 1\n",
        "print(\"updated inventory is:\", inventory)"
      ]
    }
  ],
  "metadata": {
    "colab": {
      "provenance": []
    },
    "kernelspec": {
      "display_name": "Python 3",
      "name": "python3"
    },
    "language_info": {
      "codemirror_mode": {
        "name": "ipython",
        "version": 3
      },
      "file_extension": ".py",
      "mimetype": "text/x-python",
      "name": "python",
      "nbconvert_exporter": "python",
      "pygments_lexer": "ipython3",
      "version": "3.11.0"
    }
  },
  "nbformat": 4,
  "nbformat_minor": 0
}
