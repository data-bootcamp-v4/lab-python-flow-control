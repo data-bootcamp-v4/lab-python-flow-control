{
  "cells": [
    {
      "cell_type": "markdown",
      "metadata": {
        "id": "rhvGqWO3fsTa"
      },
      "source": [
        "Exercise: Managing Customer Orders\n",
        "As part of a business venture, you are starting an online store that sells various products. To ensure smooth operations, you need to develop a program that manages customer orders and inventory.\n",
        "\n",
        "Follow the steps below to complete the exercise:\n",
        "\n",
        "1. Define a list called products that contains the following items: \"t-shirt\", \"mug\", \"hat\", \"book\", \"keychain\".\n",
        "\n",
        "2. Create an empty dictionary called inventory.\n",
        "\n",
        "3. Ask the user to input the quantity of each product available in the inventory. Use the product names from the products list as keys in the inventory dictionary and assign the respective quantities as values.\n",
        "\n",
        "4. Create an empty set called customer_orders.\n",
        "\n",
        "5. Ask the user to input the name of three products that a customer wants to order (from those in the products list, meaning three products out of \"t-shirt\", \"mug\", \"hat\", \"book\" or \"keychain\". Add each product name to the customer_orders set.\n",
        "\n",
        "6. Print the products in the customer_orders set.\n",
        "\n",
        "7. Calculate the following order statistics:\n",
        "\n",
        "- Total Products Ordered: The total number of products in the customer_orders set.\n",
        "- Percentage of Products Ordered: The percentage of products ordered compared to the total available products.\n",
        "Store these statistics in a tuple called order_status.\n",
        "\n",
        "8. Print the order statistics using the following format:\n",
        "\n",
        "Order Statistics:\n",
        "Total Products Ordered: <total_products_ordered>\n",
        "Percentage of Products Ordered: <percentage_ordered>%\n",
        "\n",
        "9. Update the inventory by subtracting 1 from the quantity of each product. Modify the inventory dictionary accordingly.\n",
        "\n",
        "10. Print the updated inventory, displaying the quantity of each product on separate lines.\n",
        "\n",
        "Solve the exercise by implementing the steps using the Python concepts of lists, dictionaries, sets, and basic input/output operations."
      ]
    },
    {
      "cell_type": "code",
      "execution_count": null,
      "metadata": {},
      "outputs": [],
      "source": [
        "# 1. Define a list called products that contains the following items: \"t-shirt\", \"mug\", \"hat\", \"book\", \"keychain\".\n",
        "products = [\"t-shirt\", \"mug\", \"hat\", \"book\", \"keychain\"]"
      ]
    },
    {
      "cell_type": "code",
      "execution_count": null,
      "metadata": {},
      "outputs": [],
      "source": [
        "# 2 Create an empty dictionary called inventory\n",
        "inventory = {}"
      ]
    },
    {
      "cell_type": "code",
      "execution_count": null,
      "metadata": {},
      "outputs": [],
      "source": [
        "# 3. Ask the user to input the quantity of each product available in the inventory. \n",
        "# Use the product names from the products list as keys in the inventory dictionary and assign the respective quantities as values.\n",
        "for product in products:\n",
        "    quantity = int(input(f\"Enter the quantity of {product}: \"))\n",
        "    inventory[product] = quantity"
      ]
    },
    {
      "cell_type": "code",
      "execution_count": null,
      "metadata": {},
      "outputs": [
        {
          "name": "stdout",
          "output_type": "stream",
          "text": [
            "{'t-shirt': 1, 'mug': 2, 'hat': 3, 'book': 4, 'keychain': 5}\n"
          ]
        }
      ],
      "source": [
        "print(inventory)"
      ]
    },
    {
      "cell_type": "code",
      "execution_count": null,
      "metadata": {},
      "outputs": [],
      "source": [
        "# 4 Create an empty set called customer_orders.\n",
        "customer_orders = set()"
      ]
    },
    {
      "cell_type": "code",
      "execution_count": null,
      "metadata": {},
      "outputs": [],
      "source": [
        " # 5. Ask the user to input the name of three products that a customer wants to order (from those in the products list, \n",
        " # meaning three products out of \"t-shirt\", \"mug\", \"hat\", \"book\" or \"keychain\". Add each product name to the customer_orders set.\n",
        " for i in range (3):\n",
        "    new_product = input(\"Please enter the name of the product you would like to order:\")\n",
        "    if new_product in products:\n",
        "      customer_orders.add(new_product)\n",
        "    else:\n",
        "      print(\"The product is not in the list, please try again\")"
      ]
    },
    {
      "cell_type": "code",
      "execution_count": null,
      "metadata": {},
      "outputs": [
        {
          "name": "stdout",
          "output_type": "stream",
          "text": [
            "Customer orders: {'book', 'hat', 'mug'}\n"
          ]
        }
      ],
      "source": [
        "# 6.  Print the products in the customer_orders set.\n",
        "print(\"Customer orders:\", customer_orders)"
      ]
    },
    {
      "cell_type": "code",
      "execution_count": null,
      "metadata": {},
      "outputs": [
        {
          "name": "stdout",
          "output_type": "stream",
          "text": [
            "total products ordered: 3\n",
            "60.0\n",
            "Order Statistics:\n",
            "Total Products Ordered: 3\n",
            "Percentage of Products Ordered: 60.0 %\n"
          ]
        }
      ],
      "source": [
        "# 7. Calculate the following order statistics:\n",
        "# - Total Products Ordered: The total number of products in the customer_orders set.\n",
        "# - Percentage of Products Ordered: The percentage of products ordered compared to the total available products.\n",
        "# Store these statistics in a tuple called order_status.\n",
        "\n",
        "# 8. Print the order statistics using the following format:\n",
        "\n",
        "#Order Statistics:\n",
        "#Total Products Ordered: <total_products_ordered>\n",
        "#Percentage of Products Ordered: <percentage_ordered>%\n",
        "\n",
        "total_products_ordered = len(customer_orders)\n",
        "print(\"total products ordered:\", total_products_ordered)\n",
        "\n",
        "percentage_ordered = (total_products_ordered / len(products)) * 100\n",
        "print(percentage_ordered)\n",
        "\n",
        "order_status = (total_products_ordered, percentage_ordered)\n",
        "print(\"Order Statistics:\" )\n",
        "print(\"Total Products Ordered:\", order_status[0])\n",
        "print(\"Percentage of Products Ordered:\", order_status[1],\"%\")\n",
        "\n"
      ]
    },
    {
      "cell_type": "code",
      "execution_count": null,
      "metadata": {},
      "outputs": [
        {
          "name": "stdout",
          "output_type": "stream",
          "text": [
            "updated inventory is: {'t-shirt': 0, 'mug': 1, 'hat': 2, 'book': 3, 'keychain': 4}\n"
          ]
        }
      ],
      "source": [
        "# 9. Update the inventory by subtracting 1 from the quantity of each product. Modify the inventory dictionary accordingly.\n",
        "for product in inventory:\n",
        "    inventory[product] -= 1\n",
        "print(\"updated inventory is:\", inventory)\n"
      ]
    },
    {
      "cell_type": "code",
      "execution_count": null,
      "metadata": {},
      "outputs": [],
      "source": [
        "# 10. Print the updated inventory, displaying the quantity of each product on separate lines.\n",
        "print(\"Updated Inventory: \")\n",
        "for product, quantity in inventory.items():\n",
        "    print(f\"{product}: {quantity}\")"
      ]
    },
    {
      "cell_type": "code",
      "execution_count": null,
      "metadata": {},
      "outputs": [
        {
          "name": "stdout",
          "output_type": "stream",
          "text": [
            "Updated Inventory: \n",
            "t-shirt 0\n",
            "mug 1\n",
            "hat 2\n",
            "book 3\n",
            "keychain 4\n"
          ]
        }
      ],
      "source": [
        "# 10. Print the updated inventory, displaying the quantity of each product on separate lines.\n",
        "print(\"Updated Inventory: \")\n",
        "for product in inventory:\n",
        "    print(product, inventory[product])"
      ]
    },
    {
      "cell_type": "markdown",
      "metadata": {},
      "source": [
        "## Exercise: Managing Customer Orders Optimized\n",
        "\n",
        "In the last lab, you were starting an online store that sells various products. To ensure smooth operations, you developed a program that manages customer orders and inventory.\n",
        "\n",
        "You did so without using flow control. Let's go a step further and improve this code.\n",
        "\n",
        "Follow the steps below to complete the exercise:\n",
        "\n",
        "1. Look at your code from the lab data structures, and improve repeated code with loops.\n",
        "\n",
        "2. Instead of asking the user to input the name of three products that a customer wants to order, do the following:\n",
        "    \n",
        "    a. Prompt the user to enter the name of a product that a customer wants to order.\n",
        "    \n",
        "    b. Add the product name to the \"customer_orders\" set.\n",
        "    \n",
        "    c. Ask the user if they want to add another product (yes/no).\n",
        "    \n",
        "    d. Continue the loop until the user does not want to add another product.\n",
        "\n",
        "3. Instead of updating the inventory by subtracting 1 from the quantity of each product, only do it for  the products that were ordered (those in \"customer_orders\")."
      ]
    },
    {
      "cell_type": "code",
      "execution_count": null,
      "metadata": {},
      "outputs": [],
      "source": [
        "# 1. The code is already using loops above. "
      ]
    },
    {
      "cell_type": "code",
      "execution_count": 2,
      "metadata": {},
      "outputs": [
        {
          "name": "stdout",
          "output_type": "stream",
          "text": [
            "your order is ready to be processed: \n",
            "{'book'}\n"
          ]
        }
      ],
      "source": [
        "# 2. Instead of asking the user to input the name of three products that a customer wants to order, do the following:    \n",
        "    #a. Prompt the user to enter the name of a product that a customer wants to order.\n",
        "        # a.1 add a validation (note)\n",
        "    #b. Add the product name to the \"customer_orders\" set.\n",
        "    #c. Ask the user if they want to add another product (yes/no).\n",
        "    #d. Continue the loop until the user does not want to add another product\n",
        "\n",
        "# Functions always on top. Encapsular operaciones de logica\n",
        "\n",
        "products = [\"t-shirt\", \"mug\", \"hat\", \"book\", \"keychain\"]\n",
        "\n",
        "customer_orders = set()\n",
        "\n",
        "def new_product_name():\n",
        "    product_required = input(\"Please enter the product you would like to order:\" )\n",
        "    return product_required \n",
        "\n",
        "def validate_product(product): # esta funcion valida si el producto esta o no en el inventario. Guard clauses (pequena logica de negocio -voy a ver si esta en la lista o no- y en funcion de esto te digo si puedes seguir o no\n",
        "    if product in products:\n",
        "        return True\n",
        "    else:\n",
        "       print(f\"{product} is not in the list of available products\")\n",
        "       return False\n",
        "\n",
        "def add_another_product(): # pregunta al usuario si quiere seguir o no\n",
        "    another_product = input(\"Would you like to add another product? (yes/no):\").lower() # para pasarlo todo a lower letters. \n",
        "    if another_product == \"yes\":\n",
        "        return True\n",
        "    else:\n",
        "        print(\"your order is ready to be processed: \")   \n",
        "        return False\n",
        "\n",
        "# este es el programa. Se lee asi:  mientras anadas producto (que es true), voy a pedir un nuevo nombre de producto lo alamceno en x. Lo valido. Si existe, lo anado. Si no existe, no hago nada. El false de abajo me vale para, una vez el usuario diga no, vuelvo arriba y como la condicion tiene que ser true, ahi se acaba el bucle\n",
        "add_products = True\n",
        "while add_products:\n",
        "    x = new_product_name() # se ejecuta la funcion new product name y el rtdo lo guardo en x\n",
        "    if validate_product(x):\n",
        "        customer_orders.add(x)\n",
        "    if not add_another_product():\n",
        "        add_products = False\n",
        "        \n",
        "print(customer_orders)"
      ]
    },
    {
      "cell_type": "code",
      "execution_count": 3,
      "metadata": {},
      "outputs": [
        {
          "name": "stdout",
          "output_type": "stream",
          "text": [
            "updated inventory is: {'t-shirt': 1, 'mug': 2, 'hat': 3, 'book': 3, 'keychain': 5}\n"
          ]
        }
      ],
      "source": [
        "inventory = {}\n",
        "\n",
        "for product in products:\n",
        "    quantity = int(input(f\"Enter the quantity of {product}: \"))\n",
        "    inventory[product] = quantity\n",
        "\n",
        "# 3. Instead of updating the inventory by subtracting 1 from the quantity of each product, only do it for  the products that were ordered (those in \"customer_orders\").\n",
        "\n",
        "for product in customer_orders:\n",
        "    inventory[product] -= 1\n",
        "print(\"updated inventory is:\", inventory)"
      ]
    },
    {
      "cell_type": "markdown",
      "metadata": {},
      "source": [
        "LAB - FUNCTIONS - 270823"
      ]
    },
    {
      "cell_type": "markdown",
      "metadata": {},
      "source": [
        "In the previous exercise, you developed a program to manage customer orders and inventory. Now, let's take it a step further and incorporate comprehension into your code.\n",
        "\n",
        "Follow the steps below to complete the exercise:\n",
        "\n",
        "1. Review your code from the previous exercise and identify areas where you can apply comprehension to simplify and streamline your code. \n",
        "\n",
        "    - *Hint: Apply it to initialize inventory, updating the inventory and printing the updated inventory.*\n",
        "    \n",
        "    - For example, in initializing the inventory, we could have:\n",
        "    \n",
        "        ```python\n",
        "        def initialize_inventory(products):\n",
        "            inventory = {product: int(input(f\"Enter the quantity of {product}s available: \")) for product in products}\n",
        "            return inventory\n",
        "\n",
        "        ```\n",
        "<br>"
      ]
    },
    {
      "cell_type": "code",
      "execution_count": 4,
      "metadata": {},
      "outputs": [],
      "source": [
        "# Initializing Inventory\n",
        "\n",
        "def initialize_inventory(products):\n",
        "    inventory = {product: int(input(f\"Enter the quantity of {product}s available: \")) for product in products}\n",
        "    return inventory"
      ]
    },
    {
      "cell_type": "code",
      "execution_count": 5,
      "metadata": {},
      "outputs": [],
      "source": [
        "# Updating inventory\n",
        "def update_inventory(inventory, orders):\n",
        "    return {product: inventory[product] - 1 for product in orders}"
      ]
    },
    {
      "cell_type": "code",
      "execution_count": 6,
      "metadata": {},
      "outputs": [],
      "source": [
        "# Printing Updated Inventory:\n",
        "def print_inventory(inventory):\n",
        "    for product, quantity in inventory.items():\n",
        "        print(f\"{product}: {quantity}\")"
      ]
    },
    {
      "cell_type": "code",
      "execution_count": 7,
      "metadata": {},
      "outputs": [
        {
          "name": "stdout",
          "output_type": "stream",
          "text": [
            "your order is ready to be processed: \n",
            "mug: 1\n",
            "{'mug'}\n"
          ]
        }
      ],
      "source": [
        "# Full code below\n",
        "\n",
        "products = [\"t-shirt\", \"mug\", \"hat\", \"book\", \"keychain\"]\n",
        "\n",
        "customer_orders = set()\n",
        "\n",
        "def new_product_name():\n",
        "    product_required = input(\"Please enter the product you would like to order:\" )\n",
        "    return product_required \n",
        "\n",
        "def validate_product(product):\n",
        "    if product in products:\n",
        "        return True\n",
        "    else:\n",
        "       print(f\"{product} is not in the list of available products\")\n",
        "       return False\n",
        "\n",
        "def add_another_product():\n",
        "    another_product = input(\"Would you like to add another product? (yes/no):\").lower()\n",
        "    if another_product == \"yes\":\n",
        "        return True\n",
        "    else:\n",
        "        print(\"your order is ready to be processed: \")   \n",
        "        return False\n",
        "\n",
        "# Initialize Inventory\n",
        "inventory = {product: int(input(f\"Enter the quantity of {product}s available: \")) for product in products}\n",
        "\n",
        "add_products = True\n",
        "while add_products:\n",
        "    x = new_product_name()\n",
        "    if validate_product(x):\n",
        "        customer_orders.add(x)\n",
        "        # Update Inventory\n",
        "        inventory = {product: inventory[product] - 1 for product in customer_orders}\n",
        "    if not add_another_product():\n",
        "        add_products = False\n",
        "\n",
        "print_inventory(inventory)\n",
        "print(customer_orders)"
      ]
    },
    {
      "cell_type": "markdown",
      "metadata": {},
      "source": [
        "2. Modify the function get_customer_orders so it prompts the user to enter the number of customer orders and gathers the product names using a loop and user input. Use comprehension."
      ]
    },
    {
      "cell_type": "code",
      "execution_count": 12,
      "metadata": {},
      "outputs": [],
      "source": [
        "def get_customer_orders(products):\n",
        "    num_orders = int(input(\"Enter the number of customer orders: \"))\n",
        "    orders = [input(f\"Enter product {i + 1} name: \") for i in range(num_orders)]\n",
        "    customer_orders = set(orders) # this is a way to remove duplicates (error I made at the beginning)\n",
        "    customer_orders = {product for product in customer_orders if product in products} # with tthis I validate each product (iterating)\n",
        "    return customer_orders\n",
        "# we will call the function like this: customer_orders = get_customer_orders(products)"
      ]
    },
    {
      "cell_type": "markdown",
      "metadata": {},
      "source": [
        "3. Add a new function to calculate the total price of the customer order. For each product in customer_orders, prompt the user to enter the price of that product. Use comprehension to calculate the total price. Note: assume that the user can only have 1 unit of each product."
      ]
    },
    {
      "cell_type": "code",
      "execution_count": 9,
      "metadata": {},
      "outputs": [],
      "source": [
        "def calculate_total_price(customer_orders):\n",
        "    product_prices = {product: float(input(f\"Enter the price of {product}: \")) for product in customer_orders} # I use dictionary comprehension to retrieve product prices  \n",
        "    total_price = sum(product_prices[product] for product in customer_orders) # I calculate the total price using a sum comprehension\n",
        "    return total_price"
      ]
    },
    {
      "cell_type": "markdown",
      "metadata": {},
      "source": [
        "4. Modify the update_inventory function to remove the product from the inventory if its quantity becomes zero after fulfilling the customer orders. Use comprehension to filter out the products with a quantity of zero from the inventory."
      ]
    },
    {
      "cell_type": "code",
      "execution_count": 10,
      "metadata": {},
      "outputs": [],
      "source": [
        "def update_inventory(inventory, orders):\n",
        "    # Update the inventory\n",
        "    inventory = {product: inventory[product] - 1 for product in orders}\n",
        "    # Now I use a dictionary comprehension to filter out products with quantity > 0\n",
        "    updated_inventory = {product: quantity for product, quantity in inventory.items() if quantity > 0}\n",
        "    return updated_inventory\n"
      ]
    },
    {
      "cell_type": "markdown",
      "metadata": {},
      "source": [
        "5. Print the total price of the customer order.\n",
        "\n",
        "Your code should produce output similar to the following:\n",
        "\n",
        "```python\n",
        "Enter the quantity of t-shirts available:  5\n",
        "Enter the quantity of mugs available:  4\n",
        "Enter the quantity of hats available:  3\n",
        "Enter the quantity of books available:  2\n",
        "Enter the quantity of keychains available:  1\n",
        "Enter the number of customer orders:  2\n",
        "Enter the name of a product that a customer wants to order:  hat\n",
        "Enter the name of a product that a customer wants to order:  keychain\n",
        "\n",
        "Order Statistics:\n",
        "Total Products Ordered: 2\n",
        "Percentage of Unique Products Ordered: 40.0\n",
        "\n",
        "Updated Inventory:\n",
        "t-shirt: 5\n",
        "mug: 4\n",
        "hat: 2\n",
        "book: 2\n",
        "Enter the price of keychain:  5\n",
        "Enter the price of hat:  10\n",
        "Total Price: 15.0"
      ]
    },
    {
      "cell_type": "code",
      "execution_count": 16,
      "metadata": {},
      "outputs": [
        {
          "name": "stdout",
          "output_type": "stream",
          "text": [
            "\n",
            "Order Statistics:\n",
            "Total Products Ordered: 2\n",
            "Percentage of Unique Products Ordered: 40.0%\n",
            "\n",
            "Updated Inventory:\n",
            "hat: 2\n",
            "mug: 1\n",
            "Total Price: 50.0\n"
          ]
        }
      ],
      "source": [
        "def get_customer_orders(products):\n",
        "    # Initialize an empty set to store the orders\n",
        "    customer_orders = set()\n",
        "    \n",
        "    while True:\n",
        "        product_name = input(\"Enter the name of a product that a customer wants to order (or 'done' to finish): \")\n",
        "        \n",
        "        if product_name == 'done':\n",
        "            break  # Exit the loop when the user is done\n",
        "        \n",
        "        if product_name in products:\n",
        "            customer_orders.add(product_name)\n",
        "        else:\n",
        "            print(f\"{product_name} is not in the list of available products\")\n",
        "    \n",
        "    return customer_orders\n",
        "\n",
        "def calculate_total_price(customer_orders):\n",
        "    # Use a dictionary comprehension to gather product prices\n",
        "    product_prices = {product: float(input(f\"Enter the price of {product}: \")) for product in customer_orders}\n",
        "    \n",
        "    # Calculate the total price using a sum comprehension\n",
        "    total_price = sum(product_prices[product] for product in customer_orders)\n",
        "    \n",
        "    return total_price\n",
        "\n",
        "def print_order_statistics(customer_orders, products):\n",
        "    total_products_ordered = len(customer_orders)\n",
        "    percentage_unique_products = (total_products_ordered / len(products)) * 100\n",
        "    \n",
        "    print(\"\\nOrder Statistics:\")\n",
        "    print(f\"Total Products Ordered: {total_products_ordered}\")\n",
        "    print(f\"Percentage of Unique Products Ordered: {percentage_unique_products:.1f}%\")\n",
        "\n",
        "def update_inventory(inventory, orders):\n",
        "    # Update the inventory\n",
        "    inventory = {product: inventory[product] - 1 for product in orders}\n",
        "    \n",
        "    # Use a dictionary comprehension to filter out products with quantity > 0\n",
        "    updated_inventory = {product: quantity for product, quantity in inventory.items() if quantity > 0}\n",
        "    \n",
        "    return updated_inventory\n",
        "\n",
        "products = [\"t-shirt\", \"mug\", \"hat\", \"book\", \"keychain\"]\n",
        "\n",
        "# Initialize Inventory\n",
        "inventory = {product: int(input(f\"Enter the quantity of {product}s available: \")) for product in products}\n",
        "\n",
        "customer_orders = get_customer_orders(products)\n",
        "\n",
        "# Update Inventory\n",
        "inventory = update_inventory(inventory, customer_orders)\n",
        "\n",
        "# Print Order Statistics\n",
        "print_order_statistics(customer_orders, products)\n",
        "\n",
        "# Calculate Total Price\n",
        "total_price = calculate_total_price(customer_orders)\n",
        "\n",
        "# Print Updated Inventory\n",
        "print(\"\\nUpdated Inventory:\")\n",
        "for product, quantity in inventory.items():\n",
        "    print(f\"{product}: {quantity}\")\n",
        "\n",
        "print(f\"Total Price: {total_price:.1f}\")\n"
      ]
    }
  ],
  "metadata": {
    "colab": {
      "provenance": []
    },
    "kernelspec": {
      "display_name": "Python 3",
      "name": "python3"
    },
    "language_info": {
      "codemirror_mode": {
        "name": "ipython",
        "version": 3
      },
      "file_extension": ".py",
      "mimetype": "text/x-python",
      "name": "python",
      "nbconvert_exporter": "python",
      "pygments_lexer": "ipython3",
      "version": "3.11.0"
    }
  },
  "nbformat": 4,
  "nbformat_minor": 0
}
