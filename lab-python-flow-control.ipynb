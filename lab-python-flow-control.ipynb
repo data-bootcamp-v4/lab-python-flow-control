{
 "cells": [
  {
   "cell_type": "markdown",
   "id": "d3bfc191-8885-42ee-b0a0-bbab867c6f9f",
   "metadata": {
    "tags": []
   },
   "source": [
    "# Lab | Flow Control"
   ]
  },
  {
   "cell_type": "markdown",
   "id": "3851fcd1-cf98-4653-9c89-e003b7ec9400",
   "metadata": {},
   "source": [
    "## Exercise: Managing Customer Orders Optimized\n",
    "\n",
    "In the last lab, you were starting an online store that sells various products. To ensure smooth operations, you developed a program that manages customer orders and inventory.\n",
    "\n",
    "You did so without using flow control. Let's go a step further and improve this code.\n",
    "\n",
    "Follow the steps below to complete the exercise:\n",
    "\n",
    "1. Look at your code from the lab data structures, and improve repeated code with loops.\n",
    "\n",
    "2. Instead of asking the user to input the name of three products that a customer wants to order, do the following:\n",
    "    \n",
    "    a. Prompt the user to enter the name of a product that a customer wants to order.\n",
    "    \n",
    "    b. Add the product name to the \"customer_orders\" set.\n",
    "    \n",
    "    c. Ask the user if they want to add another product (yes/no).\n",
    "    \n",
    "    d. Continue the loop until the user does not want to add another product.\n",
    "\n",
    "3. Instead of updating the inventory by subtracting 1 from the quantity of each product, only do it for  the products that were ordered (those in \"customer_orders\")."
   ]
  },
  {
   "cell_type": "code",
   "execution_count": 1,
   "id": "e981b192-faf4-4f07-ac25-d988f131e227",
   "metadata": {},
   "outputs": [
    {
     "name": "stdin",
     "output_type": "stream",
     "text": [
      "Please enter the quantity of the following item: t-shirt 2\n",
      "Please enter the quantity of the following item: mug 4\n",
      "Please enter the quantity of the following item: hat 6\n",
      "Please enter the quantity of the following item: book 8\n",
      "Please enter the quantity of the following item: keychain 2\n",
      "Please enter the product, that you would like to order. These items are available: ['t-shirt', 'mug', 'hat', 'book', 'keychain'] t-shirt\n"
     ]
    },
    {
     "name": "stdout",
     "output_type": "stream",
     "text": [
      "T-Shirt added to order.\n"
     ]
    },
    {
     "name": "stdin",
     "output_type": "stream",
     "text": [
      "Would you like to order another product? (Yes/No) yes\n",
      "Please enter another product book\n"
     ]
    },
    {
     "name": "stdout",
     "output_type": "stream",
     "text": [
      "Book added to order.\n",
      "{'t-shirt', 'book'}\n"
     ]
    },
    {
     "name": "stdin",
     "output_type": "stream",
     "text": [
      "Would you like to order another product? (Yes/No) no\n"
     ]
    },
    {
     "name": "stdout",
     "output_type": "stream",
     "text": [
      "Finalizing order\n",
      "\n",
      "Order Statistics:\n",
      "Total Products Ordered: 2\n",
      "Percentage of Products Ordered: 9.09%\n",
      "\n",
      "t-shirt:  1\n",
      "mug:  4\n",
      "hat:  6\n",
      "book:  7\n",
      "keychain:  2\n"
     ]
    }
   ],
   "source": [
    "# Setting up variables needed for this exercise:\n",
    "\n",
    "products = [\"t-shirt\", \"mug\", \"hat\", \"book\", \"keychain\"]\n",
    "inventory = {} #Dict\n",
    "customer_orders = set()\n",
    "qty = 0\n",
    "# Asking for user input to determine the quantity of inventory.\n",
    "\n",
    "for x in products:\n",
    "    user_input = int(input(f\"Please enter the quantity of the following item: {x}\"))\n",
    "    inventory[x] = user_input\n",
    "    qty += user_input\n",
    "\n",
    "# Take user orders and print.\n",
    "\n",
    "order = str(input(f\"Please enter the product, that you would like to order. These items are available: {products}\"))\n",
    "print(f\"{order.title()} added to order.\")\n",
    "customer_orders.add(order)\n",
    "while True:\n",
    "    decision = str(input(\"Would you like to order another product? (Yes/No)\"))\n",
    "    if \"yes\" in decision.lower():\n",
    "        new_order = str(input(\"Please enter another product\"))\n",
    "        print(f\"{new_order.title()} added to order.\")\n",
    "        customer_orders.add(new_order)\n",
    "        print(f\"{customer_orders}\")\n",
    "    elif \"no\" in decision.lower():\n",
    "        print(\"Finalizing order\")\n",
    "        break\n",
    "\n",
    "total_products_ordered = len(customer_orders)\n",
    "percentage_of_products_ordered = (total_products_ordered/qty)*100\n",
    "\n",
    "# for item in customer_orders:\n",
    "#    result = (1/inventory[item])*100\n",
    "#    percentage_of_products_ordered.append(round(result,2))\n",
    "\n",
    "order_stats = ([total_products_ordered, percentage_of_products_ordered])\n",
    "\n",
    "print(\"\\nOrder Statistics:\\n\"\n",
    "f\"Total Products Ordered: {total_products_ordered}\\n\"\n",
    "f\"Percentage of Products Ordered: {round(percentage_of_products_ordered,2)}%\\n\")\n",
    "\n",
    "# Substracting orders from inventory.\n",
    "\n",
    "for item in products:\n",
    "    if item in customer_orders:\n",
    "        inventory[item] -= 1\n",
    "    print(f\"{item}: \", inventory[item])"
   ]
  },
  {
   "cell_type": "code",
   "execution_count": null,
   "id": "14ac06fb-cd5a-40cf-9697-e7ba27bb9176",
   "metadata": {},
   "outputs": [],
   "source": []
  }
 ],
 "metadata": {
  "kernelspec": {
   "display_name": "Python 3 (ipykernel)",
   "language": "python",
   "name": "python3"
  },
  "language_info": {
   "codemirror_mode": {
    "name": "ipython",
    "version": 3
   },
   "file_extension": ".py",
   "mimetype": "text/x-python",
   "name": "python",
   "nbconvert_exporter": "python",
   "pygments_lexer": "ipython3",
   "version": "3.11.7"
  }
 },
 "nbformat": 4,
 "nbformat_minor": 5
}
