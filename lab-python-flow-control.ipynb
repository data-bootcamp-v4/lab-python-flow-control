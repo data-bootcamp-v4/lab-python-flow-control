{
 "cells": [
  {
   "cell_type": "code",
   "execution_count": 3,
   "id": "7551be5e",
   "metadata": {},
   "outputs": [],
   "source": [
    "products = [\"t-shirt\", \"mug\", \"hat\", \"book\", \"keychain\"]\n"
   ]
  },
  {
   "cell_type": "code",
   "execution_count": 4,
   "id": "bef0e5a5",
   "metadata": {},
   "outputs": [],
   "source": [
    "# Create an empty dictionary called inventory.\n",
    "inventory = {}"
   ]
  },
  {
   "cell_type": "code",
   "execution_count": 5,
   "id": "a4313756",
   "metadata": {},
   "outputs": [],
   "source": [
    "#Ask the user to input the quantity of each product available in the inventory. Use the product names from the products listt = input(\"\")\n",
    "for product in products:\n",
    "    quant = int(input(f\"Quantity of {product}?: \"))\n",
    "    inventory[product] = quant\n",
    "\n",
    "total_inventory = sum(inventory.values())"
   ]
  },
  {
   "cell_type": "code",
   "execution_count": 6,
   "id": "b9556eaa",
   "metadata": {},
   "outputs": [],
   "source": [
    "# Create an empty dictionary called customer_orders.\n",
    "\n",
    "customer_orders = {}"
   ]
  },
  {
   "cell_type": "code",
   "execution_count": 7,
   "id": "b17ed517",
   "metadata": {},
   "outputs": [
    {
     "name": "stdout",
     "output_type": "stream",
     "text": [
      "Customer Orders: {'hat': 1, 'mug': 1, 'book': 1}\n"
     ]
    }
   ],
   "source": [
    "# Ask the user to input the name of three products that a customer wants to order (from those in the products list, meaning three products out of \"t-shirt\", \"mug\", \"hat\", \"book\" or \"keychain\". \n",
    "# Add each product name to the customer_orders set.\n",
    "for ask_user in range(3):\n",
    "    item_name = input(\"Name one object: \")\n",
    "    if item_name in products:\n",
    "        customer_orders[item_name] = 1\n",
    "    else:\n",
    "        print(f\"{item_name} is not available in the list of products.\")\n",
    "# Print the products in the customer_orders dictionary.\n",
    "print(\"Customer Orders:\", customer_orders)"
   ]
  },
  {
   "cell_type": "code",
   "execution_count": 8,
   "id": "54249d28",
   "metadata": {},
   "outputs": [
    {
     "name": "stdout",
     "output_type": "stream",
     "text": [
      "Total Orders: 3\n"
     ]
    }
   ],
   "source": [
    "#Calculate the following order statistics:\n",
    "#Total Products Ordered: The total number of products in the customer_orders set.\n",
    "\n",
    "total_orders = sum(customer_orders.values())\n",
    "\n",
    "\n",
    "print(\"Total Orders:\", total_orders)"
   ]
  },
  {
   "cell_type": "code",
   "execution_count": 9,
   "id": "5279e0b6",
   "metadata": {},
   "outputs": [],
   "source": [
    "#Percentage of Products Ordered: The percentage of products ordered compared to the total available products.\n",
    "\n",
    "percent = (total_orders/total_inventory) * 100"
   ]
  },
  {
   "cell_type": "code",
   "execution_count": 10,
   "id": "e5567f3a",
   "metadata": {},
   "outputs": [],
   "source": [
    "#Store these statistics in a tuple called order_status.\n",
    "\n",
    "order_status = (percent, total_orders)"
   ]
  },
  {
   "cell_type": "code",
   "execution_count": 11,
   "id": "b0ff1390",
   "metadata": {},
   "outputs": [
    {
     "name": "stdout",
     "output_type": "stream",
     "text": [
      "The total of orders are 3\n",
      "Percentage is 6.00 %\n"
     ]
    }
   ],
   "source": [
    "#Print the order statistics using the following format:\n",
    "#Order Statistics:\n",
    "#Total Products Ordered: <total_products_ordered>\n",
    "#Percentage of Products Ordered: <percentage_ordered>% \n",
    "\n",
    "\n",
    "\n",
    "print(f\"The total of orders are {total_orders}\")\n",
    "print(f\"Percentage is {percent:.2f} %\")\n"
   ]
  },
  {
   "cell_type": "code",
   "execution_count": 14,
   "id": "39d88d7e",
   "metadata": {},
   "outputs": [
    {
     "name": "stdout",
     "output_type": "stream",
     "text": [
      "t-shirt: 10\n",
      "mug: 9\n",
      "hat: 9\n",
      "book: 9\n",
      "keychain: 10\n"
     ]
    }
   ],
   "source": [
    "#Print the updated inventory, displaying the quantity of each product on separate lines.\n",
    "for product in products:\n",
    "    if product in inventory and product in customer_orders:\n",
    "        inventory[product] -= customer_orders[product]\n",
    "\n",
    "\n",
    "for product, quant in inventory.items():\n",
    "    print(f\"{product}: {quant}\")"
   ]
  },
  {
   "cell_type": "code",
   "execution_count": null,
   "id": "74be63f0",
   "metadata": {},
   "outputs": [],
   "source": []
  }
 ],
 "metadata": {
  "kernelspec": {
   "display_name": "Python 3 (ipykernel)",
   "language": "python",
   "name": "python3"
  },
  "language_info": {
   "codemirror_mode": {
    "name": "ipython",
    "version": 3
   },
   "file_extension": ".py",
   "mimetype": "text/x-python",
   "name": "python",
   "nbconvert_exporter": "python",
   "pygments_lexer": "ipython3",
   "version": "3.10.11"
  }
 },
 "nbformat": 4,
 "nbformat_minor": 5
}
