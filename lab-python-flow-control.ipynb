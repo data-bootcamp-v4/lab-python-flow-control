{
 "cells": [
  {
   "cell_type": "markdown",
   "id": "d3bfc191-8885-42ee-b0a0-bbab867c6f9f",
   "metadata": {
    "tags": []
   },
   "source": [
    "# Lab | Flow Control"
   ]
  },
  {
   "cell_type": "markdown",
   "id": "3851fcd1-cf98-4653-9c89-e003b7ec9400",
   "metadata": {},
   "source": [
    "## Exercise: Managing Customer Orders Optimized\n",
    "\n",
    "In the last lab, you were starting an online store that sells various products. To ensure smooth operations, you developed a program that manages customer orders and inventory.\n",
    "\n",
    "You did so without using flow control. Let's go a step further and improve this code.\n",
    "\n",
    "Follow the steps below to complete the exercise:\n",
    "\n",
    "1. Look at your code from the lab data structures, and improve repeated code with loops.\n",
    "\n",
    "2. Instead of asking the user to input the name of three products that a customer wants to order, do the following:\n",
    "    \n",
    "    a. Prompt the user to enter the name of a product that a customer wants to order.\n",
    "    \n",
    "    b. Add the product name to the \"customer_orders\" set.\n",
    "    \n",
    "    c. Ask the user if they want to add another product (yes/no).\n",
    "    \n",
    "    d. Continue the loop until the user does not want to add another product.\n",
    "\n",
    "3. Instead of updating the inventory by subtracting 1 from the quantity of each product, only do it for  the products that were ordered (those in \"customer_orders\")."
   ]
  },
  {
   "cell_type": "code",
   "execution_count": 26,
   "id": "2570c881-1a29-49c7-9fdd-2669ed3ff467",
   "metadata": {},
   "outputs": [
    {
     "name": "stdin",
     "output_type": "stream",
     "text": [
      "input the quantity for t-shirt: 2\n",
      "input the quantity for mug: 3\n",
      "input the quantity for hat: 4\n",
      "input the quantity for book: 5\n",
      "input the quantity for keychain: 6\n"
     ]
    },
    {
     "name": "stdout",
     "output_type": "stream",
     "text": [
      "Inventory\n",
      "t-shirt : 2\n",
      "mug : 3\n",
      "hat : 4\n",
      "book : 5\n",
      "keychain : 6\n"
     ]
    },
    {
     "name": "stdin",
     "output_type": "stream",
     "text": [
      "enter the name of a product you want to order rt4\n"
     ]
    },
    {
     "name": "stdout",
     "output_type": "stream",
     "text": [
      "The product is not in our list\n"
     ]
    },
    {
     "name": "stdin",
     "output_type": "stream",
     "text": [
      "Do you want to add another product? (yes/no) rt\n",
      "Enter yes or no yes\n"
     ]
    },
    {
     "name": "stdout",
     "output_type": "stream",
     "text": [
      "Perfect\n"
     ]
    },
    {
     "name": "stdin",
     "output_type": "stream",
     "text": [
      "enter the name of a product you want to order mut\n"
     ]
    },
    {
     "name": "stdout",
     "output_type": "stream",
     "text": [
      "The product is not in our list\n"
     ]
    },
    {
     "name": "stdin",
     "output_type": "stream",
     "text": [
      "Do you want to add another product? (yes/no) yes\n",
      "enter the name of a product you want to order book\n",
      "Do you want to add another product? (yes/no) no\n"
     ]
    },
    {
     "name": "stdout",
     "output_type": "stream",
     "text": [
      "you odered:\n",
      "{'book'}\n",
      "Ínventory\n",
      "t-shirt : 2\n",
      "mug : 3\n",
      "hat : 4\n",
      "book : 4\n",
      "keychain : 6\n"
     ]
    }
   ],
   "source": [
    "# Define a list called products that contains the following items: \"t-shirt\", \"mug\", \"hat\", \"book\", \"keychain\".\n",
    "products = [\"t-shirt\", \"mug\", \"hat\", \"book\", \"keychain\"]\n",
    "\n",
    "# Create an empty dictionary called inventory.\n",
    "inventory = {}\n",
    "# another way to create a dictionary\n",
    "# inventiry2 = dict()\n",
    "# creating a list\n",
    "# list1 = list()\n",
    "# Ask the user to input the quantity of each product available in the inventory. \n",
    "\n",
    "for product in products:\n",
    "\n",
    "    quantity  =  int(input(f'input the quantity for {product}:'))\n",
    "    inventory[product] = quantity\n",
    "\n",
    "print (\"Inventory\")\n",
    "\n",
    "# Create an empty set called customer_orders.\n",
    "\n",
    "customer_orders = set()\n",
    "\n",
    "for key, value in inventory.items():\n",
    "    print (key, ':', value)\n",
    "\n",
    "# Prompt the user to enter the name of a product that a customer wants to order.\n",
    "order = input ('enter the name of a product you want to order')\n",
    "if order in products:\n",
    "    # Add the product name to the \"customer_orders\" set\n",
    "    customer_orders.add(order)\n",
    "else:\n",
    "    print (\"The product is not in our list\")\n",
    "\n",
    "# Ask the user if they want to add another product (yes/no)\n",
    "\n",
    "another_product = input('Do you want to add another product? (yes/no)')\n",
    "while another_product not in ['yes','no']:\n",
    "    another_product = input('Enter yes or no')\n",
    "\n",
    "if another_product == 'yes':\n",
    "    print ('Perfect')\n",
    "    while another_product != 'no':\n",
    "        order = input ('enter the name of a product you want to order')\n",
    "        if order in products:\n",
    "            customer_orders.add(order)\n",
    "            another_product = input('Do you want to add another product? (yes/no)') \n",
    "        else:\n",
    "            print (\"The product is not in our list\")\n",
    "            another_product = input('Do you want to add another product? (yes/no)')\n",
    "else:\n",
    "    print ('Got you!')\n",
    "\n",
    "print ('you odered:')\n",
    "print (customer_orders)\n",
    "\n",
    "for product in customer_orders:\n",
    "    inventory[product]= int(inventory[product])-1\n",
    "\n",
    "print (\"Ínventory\")\n",
    "for key, value in inventory.items():\n",
    "    print (key, ':', value)"
   ]
  },
  {
   "cell_type": "code",
   "execution_count": null,
   "id": "2186e3f6-312b-4f98-bcd6-59c9ee199285",
   "metadata": {},
   "outputs": [],
   "source": []
  },
  {
   "cell_type": "code",
   "execution_count": null,
   "id": "97c7b8d9-968e-48d1-97b5-0f8d9c49689b",
   "metadata": {},
   "outputs": [],
   "source": []
  }
 ],
 "metadata": {
  "kernelspec": {
   "display_name": "Python 3 (ipykernel)",
   "language": "python",
   "name": "python3"
  },
  "language_info": {
   "codemirror_mode": {
    "name": "ipython",
    "version": 3
   },
   "file_extension": ".py",
   "mimetype": "text/x-python",
   "name": "python",
   "nbconvert_exporter": "python",
   "pygments_lexer": "ipython3",
   "version": "3.11.7"
  }
 },
 "nbformat": 4,
 "nbformat_minor": 5
}
