{
 "cells": [
  {
   "cell_type": "markdown",
   "id": "d3bfc191-8885-42ee-b0a0-bbab867c6f9f",
   "metadata": {
    "tags": []
   },
   "source": [
    "# Lab | Flow Control"
   ]
  },
  {
   "cell_type": "markdown",
   "id": "3851fcd1-cf98-4653-9c89-e003b7ec9400",
   "metadata": {},
   "source": [
    "## Exercise: Managing Customer Orders Optimized\n",
    "\n",
    "In the last lab, you were starting an online store that sells various products. To ensure smooth operations, you developed a program that manages customer orders and inventory.\n",
    "\n",
    "You did so without using flow control. Let's go a step further and improve this code.\n",
    "\n",
    "Follow the steps below to complete the exercise:\n",
    "\n",
    "1. Look at your code from the lab data structures, and improve repeated code with loops.\n",
    "\n",
    "2. Instead of asking the user to input the name of three products that a customer wants to order, do the following:\n",
    "    \n",
    "    a. Prompt the user to enter the name of a product that a customer wants to order.\n",
    "    \n",
    "    b. Add the product name to the \"customer_orders\" set.\n",
    "    \n",
    "    c. Ask the user if they want to add another product (yes/no).\n",
    "    \n",
    "    d. Continue the loop until the user does not want to add another product.\n",
    "\n",
    "3. Instead of updating the inventory by subtracting 1 from the quantity of each product, only do it for  the products that were ordered (those in \"customer_orders\")."
   ]
  },
  {
   "cell_type": "code",
   "execution_count": 1,
   "id": "51cf8291",
   "metadata": {},
   "outputs": [
    {
     "name": "stdout",
     "output_type": "stream",
     "text": [
      "Enter the name of a product: mug\n",
      "Customer orders:  {'mug'}\n"
     ]
    }
   ],
   "source": [
    "products = [\"t-shirt\", \"mug\", \"hat\", \"book\", \"keychain\"]\n",
    "\n",
    "customer_orders = set()\n",
    "\n",
    "#Prompt the user to enter the name of a product that a customer wants to order.\n",
    "\n",
    "while products == [\"t-shirt\", \"mug\", \"hat\", \"book\", \"keychain\"] and len(customer_orders)<1:\n",
    "    product_name = input('Enter the name of a product: ')\n",
    "    if product_name in products:\n",
    "        customer_orders.add(product_name)\n",
    "    else:\n",
    "        print(\"Invalid product name. Try again\")\n",
    "print(\"Customer orders: \", customer_orders)"
   ]
  },
  {
   "cell_type": "code",
   "execution_count": 2,
   "id": "dc34db65",
   "metadata": {},
   "outputs": [
    {
     "data": {
      "text/plain": [
       "set"
      ]
     },
     "execution_count": 2,
     "metadata": {},
     "output_type": "execute_result"
    }
   ],
   "source": [
    "#Add the product name to the \"customer_orders\" set\n",
    "\n",
    "type(customer_orders)"
   ]
  },
  {
   "cell_type": "code",
   "execution_count": 3,
   "id": "b587678d",
   "metadata": {},
   "outputs": [
    {
     "name": "stdout",
     "output_type": "stream",
     "text": [
      "Do you want to order another product? (yes or no):  yes\n",
      "Add a product name that you want to order: t-shirt\n",
      "Do you want to order another product? (yes or no): yes\n",
      "Add a product name that you want to order: mug\n",
      "Do you want to order another product? (yes or no): no\n",
      "{'t-shirt', 'mug'}\n"
     ]
    }
   ],
   "source": [
    "#wHILE - When say yes, ask about the product repeat the question until say no\n",
    "answer = \"yes\"\n",
    "user_input = input(\"Do you want to order another product? (yes or no):  \")\n",
    "\n",
    "while True:\n",
    "    new_order = input(\"Add a product name that you want to order: \")\n",
    "    if new_order in products:\n",
    "        customer_orders.add(new_order)\n",
    "        if input(\"Do you want to order another product? (yes or no): \") == \"yes\": \n",
    "            continue\n",
    "        else:\n",
    "            break\n",
    "print(customer_orders)\n",
    "         "
   ]
  },
  {
   "cell_type": "code",
   "execution_count": 4,
   "id": "83202f34",
   "metadata": {},
   "outputs": [
    {
     "name": "stdout",
     "output_type": "stream",
     "text": [
      "{'t-shirt', 'mug'}\n"
     ]
    }
   ],
   "source": [
    "print(customer_orders)"
   ]
  },
  {
   "cell_type": "code",
   "execution_count": 5,
   "id": "f079e2fd",
   "metadata": {},
   "outputs": [
    {
     "name": "stdout",
     "output_type": "stream",
     "text": [
      "Enter the quantity of, t-shirt, avaliable: 10\n",
      "Enter the quantity of, mug, avaliable: 20\n",
      "{'t-shirt': 10, 'mug': 20}\n"
     ]
    }
   ],
   "source": [
    "inventory = {}\n",
    "for product in customer_orders:\n",
    "    quantity = int(input(f\"Enter the quantity of, {product}, avaliable: \"))\n",
    "    inventory[product] = quantity\n",
    "    \n",
    "print(inventory)"
   ]
  },
  {
   "cell_type": "code",
   "execution_count": 6,
   "id": "9170521d",
   "metadata": {},
   "outputs": [],
   "source": [
    "for key in inventory:\n",
    "    inventory[key] -=1"
   ]
  },
  {
   "cell_type": "code",
   "execution_count": 7,
   "id": "f69f28b4",
   "metadata": {},
   "outputs": [
    {
     "name": "stdout",
     "output_type": "stream",
     "text": [
      "{'t-shirt': 9, 'mug': 19}\n"
     ]
    }
   ],
   "source": [
    "print(inventory)"
   ]
  }
 ],
 "metadata": {
  "kernelspec": {
   "display_name": "Python 3 (ipykernel)",
   "language": "python",
   "name": "python3"
  },
  "language_info": {
   "codemirror_mode": {
    "name": "ipython",
    "version": 3
   },
   "file_extension": ".py",
   "mimetype": "text/x-python",
   "name": "python",
   "nbconvert_exporter": "python",
   "pygments_lexer": "ipython3",
   "version": "3.10.9"
  }
 },
 "nbformat": 4,
 "nbformat_minor": 5
}
