{
 "cells": [
  {
   "cell_type": "markdown",
   "id": "d3bfc191-8885-42ee-b0a0-bbab867c6f9f",
   "metadata": {
    "tags": []
   },
   "source": [
    "# Lab | Flow Control"
   ]
  },
  {
   "cell_type": "markdown",
   "id": "64f9e7ed-fa58-4e17-b34d-4fd8146f5e23",
   "metadata": {},
   "source": [
    "## Exercise: Managing Customer Orders Optimized\n",
    "\n",
    "In the last lab, you were starting an online store that sells various products. To ensure smooth operations, you developed a program that manages customer orders and inventory.\n",
    "\n",
    "You did so without using flow control. Let's go a step further and improve this code.\n",
    "\n",
    "Follow the steps below to complete the exercise:\n",
    "\n",
    "1. Look at your code from the lab data structures, and improve repeated code with loops.\n",
    "\n",
    "2. Instead of asking the user to input the name of three products that a customer wants to order, do the following:\n",
    "    \n",
    "    a. Prompt the user to enter the name of a product that a customer wants to order.\n",
    "    \n",
    "    b. Add the product name to the \"customer_orders\" set.\n",
    "    \n",
    "    c. Ask the user if they want to add another product (yes/no).\n",
    "    \n",
    "    d. Continue the loop until the user does not want to add another product.\n",
    "\n",
    "3. Instead of updating the inventory by subtracting 1 from the quantity of each product, only do it for  the products that were ordered (those in \"customer_orders\")."
   ]
  },
  {
   "cell_type": "code",
   "execution_count": 30,
   "id": "053ce350",
   "metadata": {},
   "outputs": [
    {
     "name": "stdout",
     "output_type": "stream",
     "text": [
      "Enter the quantity of t-shirt: 9\n",
      "Enter the quantity of mug: 7\n",
      "Enter the quantity of hat: 5\n",
      "Enter the quantity of book: 1\n",
      "Enter the quantity of keychain: 4\n",
      "{'t-shirt': 9, 'mug': 7, 'hat': 5, 'book': 1, 'keychain': 4}\n"
     ]
    }
   ],
   "source": [
    "products = [\"t-shirt\", \"mug\", \"hat\", \"book\", \"keychain\"]\n",
    "inventory = {}\n",
    "\n",
    "for key in products:\n",
    "    while True:\n",
    "        user_input = input(f\"Enter the quantity of {key}: \")\n",
    "        if user_input.isdigit():\n",
    "            inventory[key] = int(user_input)\n",
    "            break\n",
    "        else:\n",
    "            print(\"Please enter a valid number.\")\n",
    "    \n",
    "    \n",
    "    \n",
    "print(inventory)"
   ]
  },
  {
   "cell_type": "code",
   "execution_count": 31,
   "id": "f79be5ed",
   "metadata": {},
   "outputs": [
    {
     "name": "stdout",
     "output_type": "stream",
     "text": [
      "Do you want to order something? yes\n",
      "What do you want to order? book\n",
      "Do you want to order something else? yes\n",
      "What do you want to order? hat\n",
      "Do you want to order something else? yes\n",
      "What do you want to order? t-shirt\n",
      "Do you want to order something else? no\n",
      "Thank you! See you next week\n",
      "{'book', 'hat', 't-shirt'}\n"
     ]
    }
   ],
   "source": [
    "customer_orders = set()\n",
    "customer_input = input(\"Do you want to order something? \")\n",
    "\n",
    "while customer_input ==  \"yes\":\n",
    "    customer_input_1 = input(\"What do you want to order? \")\n",
    "    customer_orders.add(customer_input_1)\n",
    "    customer_input = input(\"Do you want to order something else? \")\n",
    "else:\n",
    "    print(\"Thank you! See you next week\") \n",
    "\n",
    "\n",
    "print(customer_orders)"
   ]
  },
  {
   "cell_type": "code",
   "execution_count": 32,
   "id": "76c2cddd",
   "metadata": {},
   "outputs": [
    {
     "name": "stdout",
     "output_type": "stream",
     "text": [
      "{'t-shirt': 8, 'mug': 7, 'hat': 4, 'book': 0, 'keychain': 4}\n",
      "{'book', 'hat', 't-shirt'}\n"
     ]
    }
   ],
   "source": [
    "# Instead of updating the inventory by subtracting 1 from the quantity of each product, \n",
    "# only do it for the products that were ordered (those in \"customer_orders\").\n",
    "\n",
    "substraction_value = 1\n",
    "\n",
    "for key in inventory:\n",
    "    if key in customer_orders:\n",
    "        inventory[key] -= substraction_value\n",
    "\n",
    "    \n",
    "print(inventory)\n",
    "print(customer_orders)"
   ]
  }
 ],
 "metadata": {
  "kernelspec": {
   "display_name": "Python 3 (ipykernel)",
   "language": "python",
   "name": "python3"
  },
  "language_info": {
   "codemirror_mode": {
    "name": "ipython",
    "version": 3
   },
   "file_extension": ".py",
   "mimetype": "text/x-python",
   "name": "python",
   "nbconvert_exporter": "python",
   "pygments_lexer": "ipython3",
   "version": "3.10.9"
  }
 },
 "nbformat": 4,
 "nbformat_minor": 5
}
