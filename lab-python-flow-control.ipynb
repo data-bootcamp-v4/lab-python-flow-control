{
 "cells": [
  {
   "cell_type": "markdown",
   "id": "d3bfc191-8885-42ee-b0a0-bbab867c6f9f",
   "metadata": {
    "tags": []
   },
   "source": [
    "# Lab | Flow Control"
   ]
  },
  {
   "cell_type": "markdown",
   "id": "3851fcd1-cf98-4653-9c89-e003b7ec9400",
   "metadata": {},
   "source": [
    "## Exercise: Managing Customer Orders Optimized\n",
    "\n",
    "In the last lab, you were starting an online store that sells various products. To ensure smooth operations, you developed a program that manages customer orders and inventory.\n",
    "\n",
    "You did so without using flow control. Let's go a step further and improve this code.\n",
    "\n",
    "Follow the steps below to complete the exercise:\n",
    "\n",
    "1. Look at your code from the lab data structures, and improve repeated code with loops.\n",
    "\n",
    "2. Instead of asking the user to input the name of three products that a customer wants to order, do the following:\n",
    "    \n",
    "    a. Prompt the user to enter the name of a product that a customer wants to order.\n",
    "    \n",
    "    b. Add the product name to the \"customer_orders\" set.\n",
    "    \n",
    "    c. Ask the user if they want to add another product (yes/no).\n",
    "    \n",
    "    d. Continue the loop until the user does not want to add another product.\n",
    "\n",
    "3. Instead of updating the inventory by subtracting 1 from the quantity of each product, only do it for  the products that were ordered (those in \"customer_orders\")."
   ]
  },
  {
   "cell_type": "code",
   "execution_count": 5,
   "id": "7f903477",
   "metadata": {},
   "outputs": [
    {
     "name": "stdout",
     "output_type": "stream",
     "text": [
      "Your products ordered are:  {'book', 'keychain'}\n"
     ]
    }
   ],
   "source": [
    "customer_orders = set()\n",
    "ordering = True\n",
    "\n",
    "while (ordering == True):\n",
    "    client_order = input(\"What product do you want to order?\")\n",
    "    customer_orders.add(client_order)\n",
    "    more = input(\"Do you want to add another product? (yes/no)\")\n",
    "    if more == 'yes':\n",
    "        ordering = True\n",
    "    elif more == 'no':\n",
    "        ordering = False\n",
    "    else:\n",
    "        print(\"You have to input yes or no, ordering will stop now.\")\n",
    "        break\n",
    "print(\"Your products ordered are: \",customer_orders)"
   ]
  },
  {
   "cell_type": "code",
   "execution_count": 6,
   "id": "fbaa04d0",
   "metadata": {},
   "outputs": [
    {
     "name": "stdout",
     "output_type": "stream",
     "text": [
      "{'t-shirt': 9, 'mug': 10, 'hat': 11, 'book': 3, 'keychain': 11}\n"
     ]
    }
   ],
   "source": [
    "#i just take the finished inventory from the last lab and put it here\n",
    "inventory = {'t-shirt': 9, 'mug': 10, 'hat': 11, 'book': 4, 'keychain': 12}\n",
    "\n",
    "for product in customer_orders:\n",
    "    if product in inventory:\n",
    "        inventory[product] -= 1\n",
    "\n",
    "print(inventory)"
   ]
  }
 ],
 "metadata": {
  "kernelspec": {
   "display_name": "Python 3 (ipykernel)",
   "language": "python",
   "name": "python3"
  },
  "language_info": {
   "codemirror_mode": {
    "name": "ipython",
    "version": 3
   },
   "file_extension": ".py",
   "mimetype": "text/x-python",
   "name": "python",
   "nbconvert_exporter": "python",
   "pygments_lexer": "ipython3",
   "version": "3.10.9"
  }
 },
 "nbformat": 4,
 "nbformat_minor": 5
}
