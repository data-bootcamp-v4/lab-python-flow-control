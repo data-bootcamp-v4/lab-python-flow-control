{
 "cells": [
  {
   "cell_type": "markdown",
   "id": "d3bfc191-8885-42ee-b0a0-bbab867c6f9f",
   "metadata": {
    "tags": []
   },
   "source": [
    "# Lab | Flow Control"
   ]
  },
  {
   "cell_type": "markdown",
   "id": "3851fcd1-cf98-4653-9c89-e003b7ec9400",
   "metadata": {},
   "source": [
    "## Exercise: Managing Customer Orders Optimized\n",
    "\n",
    "In the last lab, you were starting an online store that sells various products. To ensure smooth operations, you developed a program that manages customer orders and inventory.\n",
    "\n",
    "You did so without using flow control. Let's go a step further and improve this code.\n",
    "\n",
    "Follow the steps below to complete the exercise:\n",
    "\n",
    "1. Look at your code from the lab data structures, and improve repeated code with loops.\n",
    "\n",
    "2. Instead of asking the user to input the name of three products that a customer wants to order, do the following:\n",
    "    \n",
    "    a. Prompt the user to enter the name of a product that a customer wants to order.\n",
    "    \n",
    "    b. Add the product name to the \"customer_orders\" set.\n",
    "    \n",
    "    c. Ask the user if they want to add another product (yes/no).\n",
    "    \n",
    "    d. Continue the loop until the user does not want to add another product.\n",
    "\n",
    "3. Instead of updating the inventory by subtracting 1 from the quantity of each product, only do it for  the products that were ordered (those in \"customer_orders\")."
   ]
  },
  {
   "cell_type": "code",
   "execution_count": 2,
   "id": "c2add233",
   "metadata": {},
   "outputs": [],
   "source": [
    "products = ['t-shirt', 'mug', 'hat', \"book\", \"keychain\"]\n",
    "inventory = {}\n",
    "for prod_dict in products:\n",
    "    inventory[prod_dict] = int(input(f\"Insert the value of {prod_dict}:\"))\n"
   ]
  },
  {
   "cell_type": "code",
   "execution_count": 8,
   "id": "bb653663",
   "metadata": {},
   "outputs": [
    {
     "name": "stdout",
     "output_type": "stream",
     "text": [
      "Invalid Input\n"
     ]
    }
   ],
   "source": [
    "customer_orders = set()\n",
    "shopping = True\n",
    "while shopping == True and products == ['t-shirt', 'mug', 'hat', \"book\", \"keychain\"]:\n",
    "    orders = input(\"What product you would like?\")\n",
    "    if orders in products:\n",
    "        customer_orders.add(orders)\n",
    "        for y in orders:\n",
    "            y = input(\"Would you like to buy anything else?(y/n)\")\n",
    "            if y == \"n\":\n",
    "                shopping = False\n",
    "                break \n",
    "            elif y == \"y\":\n",
    "                break\n",
    "            else:\n",
    "                print (\"Invalid Input\")\n",
    "                continue\n",
    "    else:\n",
    "        print(\"That's not avaliable\")"
   ]
  },
  {
   "cell_type": "code",
   "execution_count": 10,
   "id": "8823318c",
   "metadata": {},
   "outputs": [],
   "source": [
    "for product in customer_orders:\n",
    "        inventory[product] -= 1"
   ]
  },
  {
   "cell_type": "code",
   "execution_count": 9,
   "id": "a225eaf2",
   "metadata": {},
   "outputs": [
    {
     "name": "stdout",
     "output_type": "stream",
     "text": [
      "{'t-shirt': 2, 'mug': 2, 'hat': 2, 'book': 2, 'keychain': 2}\n"
     ]
    }
   ],
   "source": [
    "print(inventory)"
   ]
  },
  {
   "cell_type": "code",
   "execution_count": 19,
   "id": "895a7d79",
   "metadata": {},
   "outputs": [],
   "source": [
    "for product in products:\n",
    "        b = int(input(\"Value:\"))\n",
    "        if type(b) == int:\n",
    "            break\n",
    "        else:\n",
    "            print('Invalid Input')\n",
    "            continue"
   ]
  },
  {
   "cell_type": "code",
   "execution_count": 25,
   "id": "f21e68da",
   "metadata": {},
   "outputs": [
    {
     "name": "stdout",
     "output_type": "stream",
     "text": [
      "Invalid Input\n",
      "Invalid Input\n",
      "Invalid Input\n",
      "Invalid Input\n",
      "Invalid Input\n"
     ]
    }
   ],
   "source": [
    "    for product in products:\n",
    "        b = input(\"Value:\")\n",
    "        if type(b) == int:\n",
    "                pass\n",
    "        else:\n",
    "            print('Invalid Input')\n",
    "            continue"
   ]
  },
  {
   "cell_type": "code",
   "execution_count": 37,
   "id": "360f4f4d",
   "metadata": {},
   "outputs": [],
   "source": [
    "def only_numbers():\n",
    "    number = input(\"Choose a number:\")\n",
    "    for i in number:\n",
    "        if number.isdigit() == True:\n",
    "            pass\n",
    "        else:\n",
    "            print (\"Invalid Input\")\n",
    "            continue\n",
    "        return number"
   ]
  },
  {
   "cell_type": "code",
   "execution_count": 38,
   "id": "44fa64ae",
   "metadata": {},
   "outputs": [
    {
     "data": {
      "text/plain": [
       "'32'"
      ]
     },
     "execution_count": 38,
     "metadata": {},
     "output_type": "execute_result"
    }
   ],
   "source": [
    "only_numbers()"
   ]
  },
  {
   "cell_type": "code",
   "execution_count": null,
   "id": "2cc678b9",
   "metadata": {},
   "outputs": [],
   "source": []
  }
 ],
 "metadata": {
  "kernelspec": {
   "display_name": "Python 3 (ipykernel)",
   "language": "python",
   "name": "python3"
  },
  "language_info": {
   "codemirror_mode": {
    "name": "ipython",
    "version": 3
   },
   "file_extension": ".py",
   "mimetype": "text/x-python",
   "name": "python",
   "nbconvert_exporter": "python",
   "pygments_lexer": "ipython3",
   "version": "3.10.9"
  }
 },
 "nbformat": 4,
 "nbformat_minor": 5
}
