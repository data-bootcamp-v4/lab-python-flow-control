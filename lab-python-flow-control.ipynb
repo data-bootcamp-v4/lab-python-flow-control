{
 "cells": [
  {
   "attachments": {},
   "cell_type": "markdown",
   "id": "d3bfc191-8885-42ee-b0a0-bbab867c6f9f",
   "metadata": {
    "tags": []
   },
   "source": [
    "# Lab | Flow Control"
   ]
  },
  {
   "attachments": {},
   "cell_type": "markdown",
   "id": "64f9e7ed-fa58-4e17-b34d-4fd8146f5e23",
   "metadata": {},
   "source": [
    "## Exercise: Managing Customer Orders Optimized\n",
    "\n",
    "In the last lab, you were starting an online store that sells various products. To ensure smooth operations, you developed a program that manages customer orders and inventory.\n",
    "\n",
    "You did so without using flow control. Let's go a step further and improve this code.\n",
    "\n",
    "Follow the steps below to complete the exercise:\n",
    "\n",
    "1. Look at your code from the lab data structures, and improve repeated code with loops.\n",
    "\n",
    "2. Instead of asking the user to input the name of three products that a customer wants to order, do the following:\n",
    "    \n",
    "    a. Prompt the user to enter the name of a product that a customer wants to order.\n",
    "    \n",
    "    b. Add the product name to the \"customer_orders\" set.\n",
    "    \n",
    "    c. Ask the user if they want to add another product (yes/no).\n",
    "    \n",
    "    d. Continue the loop until the user does not want to add another product.\n",
    "\n",
    "3. Instead of updating the inventory by subtracting 1 from the quantity of each product, only do it for  the products that were ordered (those in \"customer_orders\")."
   ]
  },
  {
   "cell_type": "code",
   "execution_count": 27,
   "id": "cef7f0c0",
   "metadata": {},
   "outputs": [
    {
     "name": "stdout",
     "output_type": "stream",
     "text": [
      "{'t-shirt': 12, 'mug': 12, 'hat': 12, 'book': 12, 'keychain': 12}\n"
     ]
    }
   ],
   "source": [
    "Products = [\"t-shirt\", \"mug\", \"hat\", \"book\", \"keychain\"]\n",
    "Inventory = {}\n",
    "\n",
    "\n",
    "\n",
    "for i in Products:\n",
    "\n",
    "    Q = int(input(\"enter the quantity: \"))\n",
    "    Inventory[i] = Q\n",
    "\n",
    "print(Inventory)\n"
   ]
  },
  {
   "cell_type": "code",
   "execution_count": 31,
   "id": "d11377d1",
   "metadata": {},
   "outputs": [
    {
     "name": "stdout",
     "output_type": "stream",
     "text": [
      "Customer orders: {'mug', 'hat', 't-shirt'}\n"
     ]
    }
   ],
   "source": [
    "customer_orders = set()\n",
    "pc = input(\"Enter the product name : \")\n",
    "customer_orders.add(pc)\n",
    "ask = input(\"Do you want to add another product? (yes/no): \")\n",
    "\n",
    "\n",
    "\n",
    "while ask == \"yes\":\n",
    "\n",
    "    pc= input(\"Enter the name of another product that the customer wants to order: \")\n",
    "\n",
    "    customer_orders.add(pc)\n",
    "\n",
    "    ask = input(\"Do you want to add another product? (yes/no): \")\n",
    "\n",
    "print(\"Customer orders:\", customer_orders)\n",
    "\n",
    "\n",
    "    \n",
    "\n",
    "\n",
    "\n",
    "\n",
    "\n",
    "\n",
    "\n"
   ]
  },
  {
   "cell_type": "code",
   "execution_count": 29,
   "id": "e1b05ec3",
   "metadata": {},
   "outputs": [],
   "source": [
    "Inventory\n",
    "s = 1\n",
    "\n",
    "for key in Inventory:\n",
    "    if key in customer_orders: \n",
    "        Inventory[key] -= s\n",
    "        "
   ]
  },
  {
   "cell_type": "code",
   "execution_count": 30,
   "id": "667f5ad1",
   "metadata": {},
   "outputs": [
    {
     "name": "stdout",
     "output_type": "stream",
     "text": [
      "Product: t-shirt Amount: 12\n",
      "Product: mug Amount: 11\n",
      "Product: hat Amount: 11\n",
      "Product: book Amount: 12\n",
      "Product: keychain Amount: 12\n"
     ]
    }
   ],
   "source": [
    "Inventory\n",
    "for key, value in Inventory.items():\n",
    "    print(\"Product:\",key,\"Amount:\" ,value)"
   ]
  },
  {
   "cell_type": "code",
   "execution_count": null,
   "id": "d0412392",
   "metadata": {},
   "outputs": [],
   "source": []
  }
 ],
 "metadata": {
  "kernelspec": {
   "display_name": "Python 3 (ipykernel)",
   "language": "python",
   "name": "python3"
  },
  "language_info": {
   "codemirror_mode": {
    "name": "ipython",
    "version": 3
   },
   "file_extension": ".py",
   "mimetype": "text/x-python",
   "name": "python",
   "nbconvert_exporter": "python",
   "pygments_lexer": "ipython3",
   "version": "3.11.4"
  }
 },
 "nbformat": 4,
 "nbformat_minor": 5
}
