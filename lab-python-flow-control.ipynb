{
 "cells": [
  {
   "attachments": {},
   "cell_type": "markdown",
   "id": "d3bfc191-8885-42ee-b0a0-bbab867c6f9f",
   "metadata": {
    "tags": []
   },
   "source": [
    "# Lab | Flow Control"
   ]
  },
  {
   "attachments": {},
   "cell_type": "markdown",
   "id": "64f9e7ed-fa58-4e17-b34d-4fd8146f5e23",
   "metadata": {},
   "source": [
    "## Exercise: Managing Customer Orders Optimized\n",
    "\n",
    "In the last lab, you were starting an online store that sells various products. To ensure smooth operations, you developed a program that manages customer orders and inventory.\n",
    "\n",
    "You did so without using flow control. Let's go a step further and improve this code.\n",
    "\n",
    "Follow the steps below to complete the exercise:\n",
    "\n",
    "1. Look at your code from the lab data structures, and improve repeated code with loops.\n",
    "\n",
    "2. Instead of asking the user to input the name of three products that a customer wants to order, do the following:\n",
    "    \n",
    "    a. Prompt the user to enter the name of a product that a customer wants to order.\n",
    "    \n",
    "    b. Add the product name to the \"customer_orders\" set.\n",
    "    \n",
    "    c. Ask the user if they want to add another product (yes/no).\n",
    "    \n",
    "    d. Continue the loop until the user does not want to add another product.\n",
    "\n",
    "3. Instead of updating the inventory by subtracting 1 from the quantity of each product, only do it for  the products that were ordered (those in \"customer_orders\")."
   ]
  },
  {
   "attachments": {},
   "cell_type": "markdown",
   "id": "7fca6406",
   "metadata": {},
   "source": [
    "### Q1 Previous lab code (with loops)"
   ]
  },
  {
   "cell_type": "code",
   "execution_count": null,
   "id": "2f58a811",
   "metadata": {},
   "outputs": [],
   "source": [
    "### Q1-3\n",
    "products = [\"t-shirt\", \"mug\", \"hat\", \"book\", \"keychain\"]\n",
    "inventory = dict()\n",
    "\n",
    "for i in products :\n",
    "    print(\"Which qunatity of\", i, \"do you want ?\")\n",
    "    inventory[i] = int(input())\n",
    "### Q4-8\n",
    "customer_orders = set()\n",
    "\n",
    "for i in range(3):\n",
    "    print(\"Enter de product that you want to buy :\")\n",
    "    customer_orders.add(input())\n",
    "\n",
    "for i in customer_orders :\n",
    "    print(i)\n",
    "\n",
    "total_products_order = len(customer_orders)\n",
    "unique_products_order = len(customer_orders)\n",
    "unique_percent = unique_products_order/total_products_order * 100\n",
    "\n",
    "order_status = (total_products_order,unique_products_order,unique_percent)\n",
    "order_status\n",
    "\n",
    "print(\"Order Statistics: \\nTotal Products Ordered:\", order_status[0],\"\\nUnique Products Ordered:\" , order_status[1],\"\\nPercentage of Unique Products Ordered:\", order_status[2])\n",
    "\n",
    "### Q9\n",
    "for i in customer_orders :\n",
    "    inventory[i] -= 1\n",
    "\n",
    "### Q10\n",
    "[print(key,':',value) for key, value in inventory.items()]"
   ]
  },
  {
   "attachments": {},
   "cell_type": "markdown",
   "id": "dd83b04d",
   "metadata": {},
   "source": [
    "### Q2"
   ]
  },
  {
   "cell_type": "code",
   "execution_count": 3,
   "id": "bd3d13bb",
   "metadata": {},
   "outputs": [
    {
     "name": "stdout",
     "output_type": "stream",
     "text": [
      "Enter de product that you want to buy :\n",
      "Do you want to add another product ? (Y/N)\n",
      "Enter de product that you want to buy :\n",
      "Do you want to add another product ? (Y/N)\n",
      "Enter de product that you want to buy :\n",
      "Do you want to add another product ? (Y/N)\n"
     ]
    }
   ],
   "source": [
    "customer_orders = set()\n",
    "\n",
    "while True :\n",
    "        print(\"Enter de product that you want to buy :\")\n",
    "        customer_orders.add(input())\n",
    "\n",
    "        print(\"Do you want to add another product ? (Y/N)\")\n",
    "        answer = input()\n",
    "        if answer == 'N' :\n",
    "            break"
   ]
  },
  {
   "attachments": {},
   "cell_type": "markdown",
   "id": "1a93bf37",
   "metadata": {},
   "source": [
    "### Q3"
   ]
  },
  {
   "cell_type": "code",
   "execution_count": null,
   "id": "189a34f1",
   "metadata": {},
   "outputs": [],
   "source": [
    "for i in customer_orders :\n",
    "    inventory[i] -= 1"
   ]
  }
 ],
 "metadata": {
  "kernelspec": {
   "display_name": "Python 3 (ipykernel)",
   "language": "python",
   "name": "python3"
  },
  "language_info": {
   "codemirror_mode": {
    "name": "ipython",
    "version": 3
   },
   "file_extension": ".py",
   "mimetype": "text/x-python",
   "name": "python",
   "nbconvert_exporter": "python",
   "pygments_lexer": "ipython3",
   "version": "3.10.10"
  }
 },
 "nbformat": 4,
 "nbformat_minor": 5
}
