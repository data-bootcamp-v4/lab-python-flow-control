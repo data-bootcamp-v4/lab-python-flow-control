{
 "cells": [
  {
   "cell_type": "markdown",
   "id": "d3bfc191-8885-42ee-b0a0-bbab867c6f9f",
   "metadata": {
    "tags": []
   },
   "source": [
    "# Lab | Flow Control"
   ]
  },
  {
   "cell_type": "markdown",
   "id": "3851fcd1-cf98-4653-9c89-e003b7ec9400",
   "metadata": {},
   "source": [
    "## Exercise: Managing Customer Orders Optimized\n",
    "\n",
    "In the last lab, you were starting an online store that sells various products. To ensure smooth operations, you developed a program that manages customer orders and inventory.\n",
    "\n",
    "You did so without using flow control. Let's go a step further and improve this code.\n",
    "\n",
    "Follow the steps below to complete the exercise:\n",
    "\n",
    "1. Look at your code from the lab data structures, and improve repeated code with loops.\n",
    "\n",
    "2. Instead of asking the user to input the name of three products that a customer wants to order, do the following:\n",
    "    \n",
    "    a. Prompt the user to enter the name of a product that a customer wants to order.\n",
    "    \n",
    "    b. Add the product name to the \"customer_orders\" set.\n",
    "    \n",
    "    c. Ask the user if they want to add another product (yes/no).\n",
    "    \n",
    "    d. Continue the loop until the user does not want to add another product.\n",
    "\n",
    "3. Instead of updating the inventory by subtracting 1 from the quantity of each product, only do it for  the products that were ordered (those in \"customer_orders\")."
   ]
  },
  {
   "cell_type": "code",
   "execution_count": 12,
   "id": "31264980",
   "metadata": {},
   "outputs": [
    {
     "name": "stdout",
     "output_type": "stream",
     "text": [
      "enter the name of a product that a customer wants to order: mug\n"
     ]
    }
   ],
   "source": [
    "product1 = input('enter the name of a product that a customer wants to order: ')\n"
   ]
  },
  {
   "cell_type": "code",
   "execution_count": 18,
   "id": "aab9199f",
   "metadata": {},
   "outputs": [
    {
     "name": "stdout",
     "output_type": "stream",
     "text": [
      "['mug']\n"
     ]
    }
   ],
   "source": [
    "customer_orders = list()\n",
    "customer_orders.append(product1)\n",
    "print(customer_orders)"
   ]
  },
  {
   "cell_type": "code",
   "execution_count": 19,
   "id": "57edfeec",
   "metadata": {},
   "outputs": [
    {
     "name": "stdout",
     "output_type": "stream",
     "text": [
      "do you want to add another product?: yes\n"
     ]
    }
   ],
   "source": [
    "anotherproduct = input('do you want to add another product?: ')\n"
   ]
  },
  {
   "cell_type": "code",
   "execution_count": 20,
   "id": "3ef2075a",
   "metadata": {},
   "outputs": [
    {
     "name": "stdout",
     "output_type": "stream",
     "text": [
      "what product do you want to add?: mug\n",
      "do you want to add another product?: yes\n",
      "what product do you want to add?: mug\n",
      "do you want to add another product?: yes\n",
      "what product do you want to add?: mug\n",
      "do you want to add another product?: yes\n",
      "what product do you want to add?: keychain\n",
      "do you want to add another product?: no\n",
      "customer order list complete\n"
     ]
    }
   ],
   "source": [
    "while anotherproduct == 'yes':\n",
    "    productadd = input('what product do you want to add?: ')\n",
    "    customer_orders.append(productadd)\n",
    "    anotherproduct = input('do you want to add another product?: ')\n",
    "else: \n",
    "    print('customer order list complete')"
   ]
  },
  {
   "cell_type": "code",
   "execution_count": 21,
   "id": "696275e0",
   "metadata": {},
   "outputs": [
    {
     "name": "stdout",
     "output_type": "stream",
     "text": [
      "['mug', 'mug', 'mug', 'mug', 'keychain']\n"
     ]
    }
   ],
   "source": [
    "print(customer_orders)"
   ]
  },
  {
   "cell_type": "code",
   "execution_count": 22,
   "id": "c10682dc",
   "metadata": {},
   "outputs": [
    {
     "name": "stdout",
     "output_type": "stream",
     "text": [
      "{'keychain', 'mug'}\n"
     ]
    }
   ],
   "source": [
    "customer_ordersset = set(customer_orders)\n",
    "print(customer_ordersset)"
   ]
  },
  {
   "cell_type": "code",
   "execution_count": 23,
   "id": "be4d072f",
   "metadata": {},
   "outputs": [],
   "source": [
    "inventory = {'tshirts': 7, 'mugs': 6, 'hats': 5, 'books': 7, 'keychains': 7}"
   ]
  },
  {
   "cell_type": "code",
   "execution_count": 34,
   "id": "9754a19f",
   "metadata": {},
   "outputs": [
    {
     "name": "stdout",
     "output_type": "stream",
     "text": [
      "inventory updated\n"
     ]
    }
   ],
   "source": [
    "if 'mug' in customer_ordersset:\n",
    "    inventory['mugs'] -1\n",
    "    print('inventory updated')\n",
    "elif 'keychain' in customer_ordersset:\n",
    "    inventory['keychains'] -1\n",
    "    print('inventory updated')\n",
    "else:\n",
    "    print('inventory not affected')"
   ]
  },
  {
   "cell_type": "code",
   "execution_count": 35,
   "id": "5b8823d5",
   "metadata": {},
   "outputs": [
    {
     "name": "stdout",
     "output_type": "stream",
     "text": [
      "{'tshirts': 7, 'mugs': 6, 'hats': 5, 'books': 7, 'keychains': 7}\n"
     ]
    }
   ],
   "source": [
    "print(inventory)"
   ]
  },
  {
   "cell_type": "code",
   "execution_count": null,
   "id": "46212386",
   "metadata": {},
   "outputs": [],
   "source": []
  }
 ],
 "metadata": {
  "kernelspec": {
   "display_name": "Python 3 (ipykernel)",
   "language": "python",
   "name": "python3"
  },
  "language_info": {
   "codemirror_mode": {
    "name": "ipython",
    "version": 3
   },
   "file_extension": ".py",
   "mimetype": "text/x-python",
   "name": "python",
   "nbconvert_exporter": "python",
   "pygments_lexer": "ipython3",
   "version": "3.10.9"
  }
 },
 "nbformat": 4,
 "nbformat_minor": 5
}
