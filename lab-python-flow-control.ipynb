{
 "cells": [
  {
   "attachments": {},
   "cell_type": "markdown",
   "id": "d3bfc191-8885-42ee-b0a0-bbab867c6f9f",
   "metadata": {
    "tags": []
   },
   "source": [
    "# Lab | Flow Control"
   ]
  },
  {
   "attachments": {},
   "cell_type": "markdown",
   "id": "64f9e7ed-fa58-4e17-b34d-4fd8146f5e23",
   "metadata": {},
   "source": [
    "## Exercise: Managing Customer Orders Optimized\n",
    "\n",
    "In the last lab, you were starting an online store that sells various products. To ensure smooth operations, you developed a program that manages customer orders and inventory.\n",
    "\n",
    "You did so without using flow control. Let's go a step further and improve this code.\n",
    "\n",
    "Follow the steps below to complete the exercise:\n",
    "\n",
    "1. Look at your code from the lab data structures, and improve repeated code with loops.\n",
    "\n",
    "2. Instead of asking the user to input the name of three products that a customer wants to order, do the following:\n",
    "    \n",
    "    a. Prompt the user to enter the name of a product that a customer wants to order.\n",
    "    \n",
    "    b. Add the product name to the \"customer_orders\" set.\n",
    "    \n",
    "    c. Ask the user if they want to add another product (yes/no).\n",
    "    \n",
    "    d. Continue the loop until the user does not want to add another product.\n",
    "\n",
    "3. Instead of updating the inventory by subtracting 1 from the quantity of each product, only do it for  the products that were ordered (those in \"customer_orders\")."
   ]
  },
  {
   "cell_type": "code",
   "execution_count": 2,
   "id": "dbe4a7d5",
   "metadata": {},
   "outputs": [
    {
     "name": "stdout",
     "output_type": "stream",
     "text": [
      "Inventory:\n",
      "{'t-shirt': 50, 'mug': 21, 'hat': 12, 'book': 30, 'keychain': 23}\n"
     ]
    }
   ],
   "source": [
    "\n",
    "# Define the products list\n",
    "products = [\"t-shirt\", \"mug\", \"hat\", \"book\", \"keychain\"]\n",
    "\n",
    "# Create an empty dictionary for inventory\n",
    "inventory = {}\n",
    "\n",
    "# Ask the user for input and update the inventory dictionary\n",
    "for product in products:\n",
    "    quantity = int(input(\"Enter the quantity of {product} is available in the inventory: \"))\n",
    "    inventory[product] = quantity\n",
    "\n",
    "# Print the inventory dictionary\n",
    "print(\"Inventory:\")\n",
    "print(inventory)"
   ]
  },
  {
   "cell_type": "code",
   "execution_count": 4,
   "id": "83854634",
   "metadata": {},
   "outputs": [
    {
     "name": "stdout",
     "output_type": "stream",
     "text": [
      "Customer Orders:\n",
      "{'keychain', 'mug'}\n"
     ]
    }
   ],
   "source": [
    "#2\n",
    "\n",
    "# Create an empty set for customer orders\n",
    "customer_orders = set()\n",
    "\n",
    "# Prompt the user to enter the name of a product to order\n",
    "while True :\n",
    "    order_product = input(\"Enter the name of the product the customer wants to order: \")\n",
    "    customer_orders.add(order_product)\n",
    "\n",
    "    add_another = input(\"Do you want to add another product? (yes/no): \")\n",
    "    if add_another.lower() != \"yes\":\n",
    "        break\n",
    "\n",
    "# Print the customer orders set\n",
    "print(\"Customer Orders:\")\n",
    "print(customer_orders)\n"
   ]
  },
  {
   "cell_type": "code",
   "execution_count": 5,
   "id": "2752ca69",
   "metadata": {},
   "outputs": [
    {
     "name": "stdout",
     "output_type": "stream",
     "text": [
      "Updated Inventory:\n",
      "{'t-shirt': 5, 'mug': 3, 'hat': 6, 'book': 5, 'keychain': 5}\n"
     ]
    }
   ],
   "source": [
    "#3\n",
    "# Update the inventory for the ordered products\n",
    "for product in customer_orders:\n",
    "    if product in inventory:\n",
    "        inventory[product] -= 1\n",
    "\n",
    "# Print the updated inventory dictionary\n",
    "print(\"Updated Inventory:\")\n",
    "print(inventory)"
   ]
  }
 ],
 "metadata": {
  "kernelspec": {
   "display_name": "Python 3 (ipykernel)",
   "language": "python",
   "name": "python3"
  },
  "language_info": {
   "codemirror_mode": {
    "name": "ipython",
    "version": 3
   },
   "file_extension": ".py",
   "mimetype": "text/x-python",
   "name": "python",
   "nbconvert_exporter": "python",
   "pygments_lexer": "ipython3",
   "version": "3.11.4"
  }
 },
 "nbformat": 4,
 "nbformat_minor": 5
}
