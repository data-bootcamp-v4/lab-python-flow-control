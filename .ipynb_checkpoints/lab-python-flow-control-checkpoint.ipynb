{
 "cells": [
  {
   "cell_type": "markdown",
   "id": "d3bfc191-8885-42ee-b0a0-bbab867c6f9f",
   "metadata": {
    "tags": []
   },
   "source": [
    "# Lab | Flow Control"
   ]
  },
  {
   "cell_type": "markdown",
   "id": "3851fcd1-cf98-4653-9c89-e003b7ec9400",
   "metadata": {},
   "source": [
    "## Exercise: Managing Customer Orders Optimized\n",
    "\n",
    "In the last lab, you were starting an online store that sells various products. To ensure smooth operations, you developed a program that manages customer orders and inventory.\n",
    "\n",
    "You did so without using flow control. Let's go a step further and improve this code.\n",
    "\n",
    "Follow the steps below to complete the exercise:\n",
    "\n",
    "1. Look at your code from the lab data structures, and improve repeated code with loops.\n",
    "\n",
    "2. Instead of asking the user to input the name of three products that a customer wants to order, do the following:\n",
    "    \n",
    "    a. Prompt the user to enter the name of a product that a customer wants to order.\n",
    "    \n",
    "    b. Add the product name to the \"customer_orders\" set.\n",
    "    \n",
    "    c. Ask the user if they want to add another product (yes/no).\n",
    "    \n",
    "    d. Continue the loop until the user does not want to add another product.\n",
    "\n",
    "3. Instead of updating the inventory by subtracting 1 from the quantity of each product, only do it for  the products that were ordered (those in \"customer_orders\")."
   ]
  },
  {
   "cell_type": "code",
   "execution_count": 60,
   "id": "ac9d4ad0-6eb7-4f4e-98bd-696bd005e855",
   "metadata": {},
   "outputs": [],
   "source": [
    "products = [\"t-shirt\", \"mug\", \"hat\", \"book\", \"keychain\"]"
   ]
  },
  {
   "cell_type": "code",
   "execution_count": 61,
   "id": "2a00628b-d7bd-4603-93a3-1fb5e948932f",
   "metadata": {},
   "outputs": [],
   "source": [
    "inventory = dict ()"
   ]
  },
  {
   "cell_type": "code",
   "execution_count": 62,
   "id": "a61aba90-c4c0-4ff0-9ab4-e83db3e73417",
   "metadata": {},
   "outputs": [
    {
     "name": "stdin",
     "output_type": "stream",
     "text": [
      "Enter the quantity t-shirt:  10\n",
      "Enter the quantity mug:  9\n",
      "Enter the quantity hat:  8\n",
      "Enter the quantity book:  10\n",
      "Enter the quantity keychain:  8\n"
     ]
    }
   ],
   "source": [
    "for product in products:\n",
    "    quantity = int(input(f\"Enter the quantity {product}: \"))\n",
    "    inventory[product] = quantity"
   ]
  },
  {
   "cell_type": "code",
   "execution_count": 63,
   "id": "2bad4bc6-0161-4057-bc03-228a3c37d39c",
   "metadata": {},
   "outputs": [],
   "source": [
    " inventory[product] = quantity"
   ]
  },
  {
   "cell_type": "code",
   "execution_count": 64,
   "id": "ff470c23-3a0c-42d2-82a0-ed329d759a24",
   "metadata": {},
   "outputs": [
    {
     "name": "stdout",
     "output_type": "stream",
     "text": [
      "For  t-shirt  the quantity is:  10\n",
      "For  mug  the quantity is:  9\n",
      "For  hat  the quantity is:  8\n",
      "For  book  the quantity is:  10\n",
      "For  keychain  the quantity is:  8\n"
     ]
    }
   ],
   "source": [
    "for key, value in inventory.items():\n",
    "    # Accessing each key-value pair\n",
    "    print(\"For \", key, \" the quantity is: \", value)"
   ]
  },
  {
   "cell_type": "code",
   "execution_count": 65,
   "id": "0a52b85e-87d0-42cd-8e53-b5744ceba6d6",
   "metadata": {},
   "outputs": [
    {
     "name": "stdin",
     "output_type": "stream",
     "text": [
      "Enter the name of the product you want to order:  t-shirt\n",
      "Do you want to add another product? (yes/no):  yes\n",
      "Enter the name of the product you want to order:  hat\n",
      "Do you want to add another product? (yes/no):  yes\n",
      "Enter the name of the product you want to order:  book\n",
      "Do you want to add another product? (yes/no):  no\n"
     ]
    },
    {
     "name": "stdout",
     "output_type": "stream",
     "text": [
      "Customer orders: {'t-shirt', 'book', 'hat'}\n"
     ]
    }
   ],
   "source": [
    "# a. Prompt the user to enter the name of a product that a customer wants to order.\n",
    "#b. Add the product name to the \"customer_orders\" set.\n",
    "customer_orders = set()\n",
    "\n",
    "while True:\n",
    "    product_name = input(\"Enter the name of the product you want to order: \")\n",
    "    customer_orders.add(product_name)\n",
    "\n",
    "#c. Ask the user if they want to add another product (yes/no).\n",
    "#d. Continue the loop until the user does not want to add another product.\n",
    "    customer_order = input(\"Do you want to add another product? (yes/no): \").lower()\n",
    "    if customer_order != \"yes\":\n",
    "        break\n",
    "print(\"Customer orders:\", customer_orders)"
   ]
  },
  {
   "cell_type": "code",
   "execution_count": 66,
   "id": "0f1daf7a-469b-4e45-8324-739c816b844d",
   "metadata": {},
   "outputs": [],
   "source": [
    "for item in customer_orders:\n",
    "    if item in inventory:\n",
    "        inventory [item]-=1"
   ]
  },
  {
   "cell_type": "code",
   "execution_count": 67,
   "id": "da337eb1-2711-411d-99df-a77441c59058",
   "metadata": {},
   "outputs": [
    {
     "name": "stdout",
     "output_type": "stream",
     "text": [
      "{'t-shirt': 9, 'mug': 9, 'hat': 7, 'book': 9, 'keychain': 8}\n"
     ]
    }
   ],
   "source": [
    "print(inventory)"
   ]
  },
  {
   "cell_type": "code",
   "execution_count": null,
   "id": "b33ba792-65d3-44b0-9459-bd64b84f307a",
   "metadata": {},
   "outputs": [],
   "source": []
  }
 ],
 "metadata": {
  "kernelspec": {
   "display_name": "Python 3 (ipykernel)",
   "language": "python",
   "name": "python3"
  },
  "language_info": {
   "codemirror_mode": {
    "name": "ipython",
    "version": 3
   },
   "file_extension": ".py",
   "mimetype": "text/x-python",
   "name": "python",
   "nbconvert_exporter": "python",
   "pygments_lexer": "ipython3",
   "version": "3.11.7"
  }
 },
 "nbformat": 4,
 "nbformat_minor": 5
}
