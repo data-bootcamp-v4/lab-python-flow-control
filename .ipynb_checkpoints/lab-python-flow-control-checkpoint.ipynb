{
 "cells": [
  {
   "cell_type": "markdown",
   "id": "d3bfc191-8885-42ee-b0a0-bbab867c6f9f",
   "metadata": {
    "tags": []
   },
   "source": [
    "# Lab | Flow Control"
   ]
  },
  {
   "cell_type": "code",
   "execution_count": 4,
   "id": "ee70be43-ba9c-4214-9285-b0e2f3100e9a",
   "metadata": {},
   "outputs": [
    {
     "name": "stdin",
     "output_type": "stream",
     "text": [
      "Enter the quantity of t-shirt:  4\n",
      "Enter the quantity of mug:  4\n",
      "Enter the quantity of hat:  4\n",
      "Enter the quantity of book:  4\n",
      "Enter the quantity of keychain:  4\n"
     ]
    },
    {
     "name": "stdout",
     "output_type": "stream",
     "text": [
      "Inventory:\n",
      "{'t-shirt': 4, 'mug': 4, 'hat': 4, 'book': 4, 'keychain': 4}\n"
     ]
    },
    {
     "name": "stdin",
     "output_type": "stream",
     "text": [
      "Do you want to order a product? mug\n"
     ]
    },
    {
     "name": "stdout",
     "output_type": "stream",
     "text": [
      "Customer Orders:\n",
      "set()\n",
      "Updated inventory:\n",
      "{'t-shirt': 4, 'mug': 4, 'hat': 4, 'book': 4, 'keychain': 4}\n"
     ]
    }
   ],
   "source": [
    "# 1 create a list products\n",
    "products = [\"t-shirt\", \"mug\", \"hat\", \"book\", \"keychain\"]\n",
    "\n",
    "# 2 create an empty dictionary called inventory\n",
    "inventory = {}\n",
    "# inveroty2 = dict()\n",
    "# creating a list via function list1 = list()\n",
    "\n",
    "# 3 Aks user for a quantity of the availability of each poduct\n",
    "#adding the product names as keys in the inventory\n",
    "\n",
    "for product in products:\n",
    "    quantity = int(input(f\"Enter the quantity of {product}: \"))\n",
    "    inventory[product] = quantity\n",
    "\n",
    "# Create an empty set for customer orders\n",
    "customer_orders = set()\n",
    "\n",
    "# 4 Print out the inventory dictionary\n",
    "print(\"Inventory:\")\n",
    "print(inventory)\n",
    "\n",
    "# Ask if the user wants to order a product\n",
    "response = input(\"Do you want to order a product?\")\n",
    "\n",
    "#Ask the user if they want to buy a product\n",
    "while response == \"yes\":\n",
    "    if response == \"yes\":\n",
    "        order = input(\"Enter the name of a product to order: \")\n",
    "        if order in products:\n",
    "            if inventory[order] > 0:\n",
    "                customer_orders.add(order)\n",
    "                inventory[order] -= 1  # Update inventory\n",
    "                response = input(\"Do you want to buy another product? \")\n",
    "            else:\n",
    "                print(\"Sorry, this product is out of stock.\")\n",
    "                response = input(\"Do you want to order another product? \")\n",
    "        else:\n",
    "            print(\"Product unavailable. Choose another product \")\n",
    "            response = input(\"Do you want to order another product? \")\n",
    "    else:\n",
    "        print(\"Sorry, we need a yes or no answer\")\n",
    "\n",
    "# user orders:\n",
    "print(\"Customer Orders:\")\n",
    "print(customer_orders)\n",
    "print(\"Updated inventory:\")\n",
    "print(inventory)"
   ]
  },
  {
   "cell_type": "markdown",
   "id": "3851fcd1-cf98-4653-9c89-e003b7ec9400",
   "metadata": {},
   "source": [
    "## Exercise: Managing Customer Orders Optimized\n",
    "\n",
    "In the last lab, you were starting an online store that sells various products. To ensure smooth operations, you developed a program that manages customer orders and inventory.\n",
    "\n",
    "You did so without using flow control. Let's go a step further and improve this code.\n",
    "\n",
    "Follow the steps below to complete the exercise:\n",
    "\n",
    "1. Look at your code from the lab data structures, and improve repeated code with loops.\n",
    "\n",
    "2. Instead of asking the user to input the name of three products that a customer wants to order, do the following:\n",
    "    \n",
    "    a. Prompt the user to enter the name of a product that a customer wants to order.\n",
    "    \n",
    "    b. Add the product name to the \"customer_orders\" set.\n",
    "    \n",
    "    c. Ask the user if they want to add another product (yes/no).\n",
    "    \n",
    "    d. Continue the loop until the user does not want to add another product.\n",
    "\n",
    "3. Instead of updating the inventory by subtracting 1 from the quantity of each product, only do it for  the products that were ordered (those in \"customer_orders\")."
   ]
  }
 ],
 "metadata": {
  "kernelspec": {
   "display_name": "Python 3 (ipykernel)",
   "language": "python",
   "name": "python3"
  },
  "language_info": {
   "codemirror_mode": {
    "name": "ipython",
    "version": 3
   },
   "file_extension": ".py",
   "mimetype": "text/x-python",
   "name": "python",
   "nbconvert_exporter": "python",
   "pygments_lexer": "ipython3",
   "version": "3.11.7"
  }
 },
 "nbformat": 4,
 "nbformat_minor": 5
}
