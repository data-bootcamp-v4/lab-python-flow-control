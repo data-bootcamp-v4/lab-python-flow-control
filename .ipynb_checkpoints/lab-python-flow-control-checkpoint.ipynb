{
 "cells": [
  {
   "cell_type": "markdown",
   "id": "d3bfc191-8885-42ee-b0a0-bbab867c6f9f",
   "metadata": {
    "tags": []
   },
   "source": [
    "# Lab | Flow Control"
   ]
  },
  {
   "cell_type": "markdown",
   "id": "3851fcd1-cf98-4653-9c89-e003b7ec9400",
   "metadata": {},
   "source": [
    "## Exercise: Managing Customer Orders Optimized\n",
    "\n",
    "In the last lab, you were starting an online store that sells various products. To ensure smooth operations, you developed a program that manages customer orders and inventory.\n",
    "\n",
    "You did so without using flow control. Let's go a step further and improve this code.\n",
    "\n",
    "Follow the steps below to complete the exercise:\n",
    "\n",
    "1. Look at your code from the lab data structures, and improve repeated code with loops.\n",
    "\n",
    "2. Instead of asking the user to input the name of three products that a customer wants to order, do the following:\n",
    "    \n",
    "    a. Prompt the user to enter the name of a product that a customer wants to order.\n",
    "    \n",
    "    b. Add the product name to the \"customer_orders\" set.\n",
    "    \n",
    "    c. Ask the user if they want to add another product (yes/no).\n",
    "    \n",
    "    d. Continue the loop until the user does not want to add another product.\n",
    "\n",
    "3. Instead of updating the inventory by subtracting 1 from the quantity of each product, only do it for  the products that were ordered (those in \"customer_orders\")."
   ]
  },
  {
   "cell_type": "code",
   "execution_count": 75,
   "id": "6b79a67b-39d3-4c7e-93b0-9b012727fddc",
   "metadata": {},
   "outputs": [],
   "source": [
    "# Define a list called `products` that contains the following items: \"t-shirt\", \"mug\", \"hat\", \"book\", \"keychain\".\n",
    "products = [\"t-shirt\", \"mug\", \"hat\", \"book\", \"keychain\"]"
   ]
  },
  {
   "cell_type": "code",
   "execution_count": 76,
   "id": "e4b15598-ab69-4a50-98a1-0206e56d3e7b",
   "metadata": {},
   "outputs": [],
   "source": [
    "# Create an empty dictionary called `inventory`.\n",
    "inventory = dict ()"
   ]
  },
  {
   "cell_type": "code",
   "execution_count": 77,
   "id": "882fc05b-5c6f-4954-b9d5-3aaa223b8708",
   "metadata": {},
   "outputs": [
    {
     "name": "stdin",
     "output_type": "stream",
     "text": [
      "Enter the quantity t-shirt:  9\n",
      "Enter the quantity mug:  4\n",
      "Enter the quantity hat:  5\n",
      "Enter the quantity book:  6\n",
      "Enter the quantity keychain:  7\n"
     ]
    }
   ],
   "source": [
    "#Ask the user to input the quantity of each product available in the inventory. \n",
    "for product in products:\n",
    "    quantity = int(input(f\"Enter the quantity {product}: \"))\n",
    "    inventory[product] = quantity"
   ]
  },
  {
   "cell_type": "code",
   "execution_count": 78,
   "id": "6bb816e9-3a90-4c55-83aa-6f78f101b4a4",
   "metadata": {},
   "outputs": [],
   "source": [
    "#Create an empty set called `customer_orders`.\n",
    "customer_orders = set()"
   ]
  },
  {
   "cell_type": "code",
   "execution_count": 79,
   "id": "5177fc2c-661d-4b5b-bb03-10a611f08de4",
   "metadata": {},
   "outputs": [
    {
     "name": "stdin",
     "output_type": "stream",
     "text": [
      "Please name the product you want to purchase:  mug\n"
     ]
    }
   ],
   "source": [
    "#Ask the user to input the name of one product that a customer wants to order \n",
    "for order in range(1):\n",
    "    order = input(\"Please name the product you want to purchase: \")\n",
    "    customer_orders.add(order)\n"
   ]
  },
  {
   "cell_type": "code",
   "execution_count": 80,
   "id": "2ffdbdf6-4f8d-4fd4-ac00-3d181eebeb7a",
   "metadata": {},
   "outputs": [
    {
     "name": "stdout",
     "output_type": "stream",
     "text": [
      "{'mug'}\n"
     ]
    }
   ],
   "source": [
    "#print the orders in customer order set\n",
    "print (customer_orders)"
   ]
  },
  {
   "cell_type": "code",
   "execution_count": 81,
   "id": "7f4e4380-6565-4b9a-a11a-52f4f4ec8bdd",
   "metadata": {},
   "outputs": [
    {
     "name": "stdin",
     "output_type": "stream",
     "text": [
      "Do you want to add another product (yes/no)?  yes\n"
     ]
    },
    {
     "name": "stdout",
     "output_type": "stream",
     "text": [
      "Kindly place another order\n"
     ]
    },
    {
     "name": "stdin",
     "output_type": "stream",
     "text": [
      "Do you want to add another product (yes/no)?  no\n"
     ]
    },
    {
     "name": "stdout",
     "output_type": "stream",
     "text": [
      "Thank you for your purchase.\n"
     ]
    }
   ],
   "source": [
    "#ask user if they want to add another product\n",
    "user_choice = input(\"Do you want to add another product (yes/no)? \")\n",
    "while user_choice == \"yes\":\n",
    "    print(\"Kindly place another order\")\n",
    "    user_choice = input(\"Do you want to add another product (yes/no)? \")\n",
    "print(\"Thank you for your purchase.\")\n"
   ]
  },
  {
   "cell_type": "code",
   "execution_count": 82,
   "id": "19e12148-5d89-4b4e-b3a8-9b17a07b4ec1",
   "metadata": {},
   "outputs": [],
   "source": [
    "#update the inventory by subtracting 1 from the products that were ordered in customers orders\n",
    "for order in customer_orders:\n",
    "    if order in inventory:\n",
    "        inventory[order]-=1"
   ]
  },
  {
   "cell_type": "code",
   "execution_count": 83,
   "id": "747b3ebe-5a94-45d6-b4f8-067a6eac7e8c",
   "metadata": {},
   "outputs": [
    {
     "name": "stdout",
     "output_type": "stream",
     "text": [
      "t-shirt: 9\n",
      "mug: 3\n",
      "hat: 5\n",
      "book: 6\n",
      "keychain: 7\n"
     ]
    }
   ],
   "source": [
    "\n",
    "# Print the updated inventory, displaying the quantity of the products that were ordered in customer orders\n",
    "for order in inventory:\n",
    "    print(order + \": \" + str(inventory [order]))"
   ]
  }
 ],
 "metadata": {
  "kernelspec": {
   "display_name": "Python 3 (ipykernel)",
   "language": "python",
   "name": "python3"
  },
  "language_info": {
   "codemirror_mode": {
    "name": "ipython",
    "version": 3
   },
   "file_extension": ".py",
   "mimetype": "text/x-python",
   "name": "python",
   "nbconvert_exporter": "python",
   "pygments_lexer": "ipython3",
   "version": "3.11.7"
  }
 },
 "nbformat": 4,
 "nbformat_minor": 5
}
