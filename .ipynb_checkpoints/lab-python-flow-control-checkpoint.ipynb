{
 "cells": [
  {
   "cell_type": "markdown",
   "id": "d3bfc191-8885-42ee-b0a0-bbab867c6f9f",
   "metadata": {
    "tags": []
   },
   "source": [
    "# Lab | Flow Control"
   ]
  },
  {
   "cell_type": "markdown",
   "id": "3851fcd1-cf98-4653-9c89-e003b7ec9400",
   "metadata": {},
   "source": [
    "## Exercise: Managing Customer Orders Optimized\n",
    "\n",
    "In the last lab, you were starting an online store that sells various products. To ensure smooth operations, you developed a program that manages customer orders and inventory.\n",
    "\n",
    "You did so without using flow control. Let's go a step further and improve this code.\n",
    "\n",
    "Follow the steps below to complete the exercise:\n",
    "\n",
    "1. Look at your code from the lab data structures, and improve repeated code with loops.\n",
    "\n",
    "2. Instead of asking the user to input the name of three products that a customer wants to order, do the following:\n",
    "    \n",
    "    a. Prompt the user to enter the name of a product that a customer wants to order.\n",
    "    \n",
    "    b. Add the product name to the \"customer_orders\" set.\n",
    "    \n",
    "    c. Ask the user if they want to add another product (yes/no).\n",
    "    \n",
    "    d. Continue the loop until the user does not want to add another product.\n",
    "\n",
    "3. Instead of updating the inventory by subtracting 1 from the quantity of each product, only do it for  the products that were ordered (those in \"customer_orders\")."
   ]
  },
  {
   "cell_type": "code",
   "execution_count": 9,
   "id": "c33ce7c3-6e22-486b-9a09-28d13255dc5d",
   "metadata": {},
   "outputs": [],
   "source": [
    "products = [\"t-shirt\", \"mug\", \"hat\", \"book\", \"keychain\"]\n",
    "\n",
    "inventory = {}"
   ]
  },
  {
   "cell_type": "code",
   "execution_count": 11,
   "id": "6b4a3a1e-55c9-42dc-99cd-0793dee1bd52",
   "metadata": {},
   "outputs": [
    {
     "name": "stdin",
     "output_type": "stream",
     "text": [
      "Enter the quantity of t-shirt:  6\n",
      "Enter the quantity of mug:  4\n",
      "Enter the quantity of hat:  4\n",
      "Enter the quantity of book:  7\n",
      "Enter the quantity of keychain:  3\n"
     ]
    }
   ],
   "source": [
    "# Ask the user to input the quantity of each product available\n",
    "for product in products:\n",
    "    quantity = int(input(f\"Enter the quantity of {product}: \"))\n",
    "    inventory[product] = quantity"
   ]
  },
  {
   "cell_type": "code",
   "execution_count": 12,
   "id": "2588a0ae-6193-4c28-ad74-a25a66f90ad8",
   "metadata": {},
   "outputs": [],
   "source": [
    "customer_orders = set()"
   ]
  },
  {
   "cell_type": "code",
   "execution_count": 13,
   "id": "d7bc592e-546b-4084-b41d-777e0f62cf66",
   "metadata": {},
   "outputs": [
    {
     "name": "stdin",
     "output_type": "stream",
     "text": [
      "Please name the producht you want to purschase:  book\n"
     ]
    }
   ],
   "source": [
    "for order in range(1):\n",
    "    order = input(\"Please name the producht you want to purschase: \")\n",
    "    customer_orders.add(order)"
   ]
  },
  {
   "cell_type": "code",
   "execution_count": 14,
   "id": "be47e9eb-24ac-4252-9792-f84790fc5114",
   "metadata": {},
   "outputs": [
    {
     "name": "stdin",
     "output_type": "stream",
     "text": [
      "Do you want to add another product? (yes/no):  yes\n"
     ]
    },
    {
     "name": "stdout",
     "output_type": "stream",
     "text": [
      "Adding product...\n"
     ]
    },
    {
     "name": "stdin",
     "output_type": "stream",
     "text": [
      "Do you want to add another product? (yes/no):  no\n"
     ]
    },
    {
     "name": "stdout",
     "output_type": "stream",
     "text": [
      "Exiting the loop.\n"
     ]
    }
   ],
   "source": [
    "while True:\n",
    "    # Ask the user if they want to add another product\n",
    "    response = input(\"Do you want to add another product? (yes/no): \").strip()\n",
    "    \n",
    "    # Check if the user wants to add another product\n",
    "    if response == \"yes\":\n",
    "        # Add product functionality goes here\n",
    "        print(\"Adding product...\")\n",
    "        # You can add your code here to add a product\n",
    "           \n",
    "    elif response == \"no\":\n",
    "        print(\"Exiting the loop.\")\n",
    "        break  # Exit the loop if the user doesn't want to add another product\n",
    "    else:\n",
    "        print(\"Invalid response. Please enter 'yes' or 'no'.\")"
   ]
  },
  {
   "cell_type": "code",
   "execution_count": 15,
   "id": "5c6e5b01-2fdd-4b17-bb8f-49410cf247ff",
   "metadata": {},
   "outputs": [],
   "source": [
    "customer_orders = []"
   ]
  },
  {
   "cell_type": "code",
   "execution_count": 16,
   "id": "a9254ff8-6939-43ef-8fd5-24c824010f6d",
   "metadata": {},
   "outputs": [],
   "source": [
    "# Subtract 1 from the quantity of each ordered product in the inventory\n",
    "for ordered_product in customer_orders:\n",
    "    if ordered_product in inventory:\n",
    "        inventory[ordered_product] -= 1"
   ]
  },
  {
   "cell_type": "code",
   "execution_count": 17,
   "id": "ae20a4f0-30d5-4627-a8e8-874f38f5cdd2",
   "metadata": {},
   "outputs": [
    {
     "name": "stdout",
     "output_type": "stream",
     "text": [
      "t-shirt: 6\n",
      "mug: 4\n",
      "hat: 4\n",
      "book: 7\n",
      "keychain: 3\n"
     ]
    }
   ],
   "source": [
    "for ordered_product in inventory:\n",
    "    print(ordered_product + \": \" + str(inventory [ordered_product]))"
   ]
  },
  {
   "cell_type": "code",
   "execution_count": null,
   "id": "64d017a5-dcbb-4275-a22a-8cdbb1dd88ac",
   "metadata": {},
   "outputs": [],
   "source": []
  }
 ],
 "metadata": {
  "kernelspec": {
   "display_name": "Python 3 (ipykernel)",
   "language": "python",
   "name": "python3"
  },
  "language_info": {
   "codemirror_mode": {
    "name": "ipython",
    "version": 3
   },
   "file_extension": ".py",
   "mimetype": "text/x-python",
   "name": "python",
   "nbconvert_exporter": "python",
   "pygments_lexer": "ipython3",
   "version": "3.11.7"
  }
 },
 "nbformat": 4,
 "nbformat_minor": 5
}
