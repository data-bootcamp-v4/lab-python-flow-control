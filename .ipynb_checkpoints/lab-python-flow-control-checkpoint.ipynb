{
 "cells": [
  {
   "cell_type": "markdown",
   "id": "d3bfc191-8885-42ee-b0a0-bbab867c6f9f",
   "metadata": {
    "tags": []
   },
   "source": [
    "# Lab | Flow Control"
   ]
  },
  {
   "cell_type": "markdown",
   "id": "64f9e7ed-fa58-4e17-b34d-4fd8146f5e23",
   "metadata": {},
   "source": [
    "## Exercise: Managing Customer Orders Optimized\n",
    "\n",
    "In the last lab, you were starting an online store that sells various products. To ensure smooth operations, you developed a program that manages customer orders and inventory.\n",
    "\n",
    "You did so without using flow control. Let's go a step further and improve this code.\n",
    "\n",
    "Follow the steps below to complete the exercise:\n",
    "\n",
    "1. Look at your code from the lab data structures, and improve repeated code with loops.\n",
    "\n",
    "2. Instead of asking the user to input the name of three products that a customer wants to order, do the following:\n",
    "    \n",
    "    a. Prompt the user to enter the name of a product that a customer wants to order.\n",
    "    \n",
    "    b. Add the product name to the \"customer_orders\" set.\n",
    "    \n",
    "    c. Ask the user if they want to add another product (yes/no).\n",
    "    \n",
    "    d. Continue the loop until the user does not want to add another product.\n",
    "\n",
    "3. Instead of updating the inventory by subtracting 1 from the quantity of each product, only do it for  the products that were ordered (those in \"customer_orders\")."
   ]
  },
  {
   "cell_type": "code",
   "execution_count": 13,
   "id": "8da6bce9",
   "metadata": {},
   "outputs": [],
   "source": [
    "products = [\"t-shirt\", \"mug\", \"hat\", \"book\", \"keychain\"]\n",
    "inventory = {}\n",
    "customer_orders = set()"
   ]
  },
  {
   "cell_type": "code",
   "execution_count": 14,
   "id": "55faf914",
   "metadata": {},
   "outputs": [
    {
     "name": "stdout",
     "output_type": "stream",
     "text": [
      "Input quantity for item t-shirt:342\n",
      "Input quantity for item mug:344\n",
      "Input quantity for item hat:two\n",
      "You must enter a valid integer.\n",
      "Input quantity for item hat:2\n",
      "Input quantity for item book:133\n",
      "Input quantity for item keychain:24\n",
      "This is the complete inventory:\n",
      " {'t-shirt': 342, 'mug': 344, 'hat': 2, 'book': 133, 'keychain': 24}\n"
     ]
    }
   ],
   "source": [
    "for product in products:\n",
    "    while True:\n",
    "        try:\n",
    "            inventory[product] = int(input(f'Input quantity for item {product}:'))\n",
    "        except ValueError:\n",
    "            print('You must enter a valid integer.')\n",
    "            continue\n",
    "        else:\n",
    "            break\n",
    "\n",
    "print('This is the complete inventory:\\n', inventory)"
   ]
  },
  {
   "cell_type": "code",
   "execution_count": 15,
   "id": "1d0c188c",
   "metadata": {},
   "outputs": [
    {
     "name": "stdout",
     "output_type": "stream",
     "text": [
      "Enter the name of the product that you want to add to your cart.\n",
      "Please note that the product must be in the inventory.\n",
      "Add product to your cart:pizza\n",
      "Product not in inventory.\n",
      "Add product to your cart:book\n",
      "Do you want to add another one? (y/n)y\n",
      "Add product to your cart:t-shirt\n",
      "Do you want to add another one? (y/n)n\n",
      "Thank you. Please find the list of items added to your cart:\n",
      " {'t-shirt', 'book'}\n"
     ]
    }
   ],
   "source": [
    "print('Enter the name of the product that you want to add to your cart.')\n",
    "print('Please note that the product must be in the inventory.')\n",
    "\n",
    "add = 'y'\n",
    "\n",
    "while add == 'y':\n",
    "    tmp = input('Add product to your cart:')\n",
    "    if tmp in inventory.keys():\n",
    "        customer_orders.add(tmp)\n",
    "        add = input('Do you want to add another one? (y/n)')\n",
    "        #break\n",
    "    else:\n",
    "        print('Product not in inventory.')\n",
    "        continue\n",
    "\n",
    "print('\\nThank you. Please find the list of items added to your cart:\\n', customer_orders)\n"
   ]
  },
  {
   "cell_type": "code",
   "execution_count": 12,
   "id": "d0796742",
   "metadata": {},
   "outputs": [
    {
     "name": "stdout",
     "output_type": "stream",
     "text": [
      "This is your cart: {'hat', 'book'}\n"
     ]
    }
   ],
   "source": []
  },
  {
   "cell_type": "code",
   "execution_count": null,
   "id": "f4be4f7a",
   "metadata": {},
   "outputs": [],
   "source": []
  }
 ],
 "metadata": {
  "kernelspec": {
   "display_name": "Python 3 (ipykernel)",
   "language": "python",
   "name": "python3"
  },
  "language_info": {
   "codemirror_mode": {
    "name": "ipython",
    "version": 3
   },
   "file_extension": ".py",
   "mimetype": "text/x-python",
   "name": "python",
   "nbconvert_exporter": "python",
   "pygments_lexer": "ipython3",
   "version": "3.10.9"
  }
 },
 "nbformat": 4,
 "nbformat_minor": 5
}
